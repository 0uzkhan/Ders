{
 "cells": [
  {
   "cell_type": "markdown",
   "metadata": {},
   "source": [
    "# 2. Hafta | Python ile Temel Beceriler (Bölüm 2)"
   ]
  },
  {
   "cell_type": "markdown",
   "metadata": {},
   "source": [
    "### İçindekiler\n",
    "   \n",
    "* [Nesne Yönelimli Programlama:](#1)"
   ]
  },
  {
   "cell_type": "markdown",
   "metadata": {},
   "source": [
    "# Nesne Yönelimli Programlama<a id='1'></a>"
   ]
  },
  {
   "cell_type": "markdown",
   "metadata": {},
   "source": [
    "Nesne yönelimli programlama (OOP), (Object Oriented Programming) nesneyi merkezine alan bir bilgisayar programlama yaklaşımıdır. \n",
    "Nesne yönelimli programlamanın temel kavramları;\n",
    "* Büyük yazılımlar geliştirmeyi kolaylaştıran Soyutlama (Abstraction),\n",
    "* Yazılımları değiştirmeyi ve korumayı kolaylaştıran Saklama/Sarmalama (Encapsulation),\n",
    "* Yazılımları genişletilebilir kılan Sınıf Hiyerarşisi ve Kalıtım (Inheritance),\n",
    "* Kalıtım hiyerarşisi içerisinde farklı işlemler yapan (fakat) aynı isimdeki özellik veya metotların kullanımına Çok Biçimlilik (Polymorphism)\n",
    "<br/>\n",
    "<h4>\n",
    "<a href=\"https://www.youtube.com/playlist?list=PLculWlrKWPZdkNUYU4VCebIfW2oDT1Qhz\">NYP Dersleri - Youtube Video Serisi</a>"
   ]
  },
  {
   "cell_type": "markdown",
   "metadata": {},
   "source": [
    "## Sınıflar <a id='42'></a>"
   ]
  },
  {
   "cell_type": "markdown",
   "metadata": {},
   "source": [
    "Nesnelerimizi oluşturmak için öncelikle class anahtar kelimesi ile yeni bir sınıf oluşturuyoruz. Burada araba sınıfı adı altında nesneler oluşturmak için araba sınıfını oluşturuyoruz."
   ]
  },
  {
   "cell_type": "code",
   "execution_count": 1,
   "metadata": {},
   "outputs": [],
   "source": [
    "class araba():\n",
    "\n",
    "    marka =  \"Mazda\"\n",
    "    renk = \"Bordo\"\n",
    "    silindir = 4"
   ]
  },
  {
   "cell_type": "markdown",
   "metadata": {},
   "source": [
    "## Nesneler <a id='43'></a>"
   ]
  },
  {
   "cell_type": "markdown",
   "metadata": {},
   "source": [
    "Oluşturduğumuz araba sınıfından iki adet araba nesnesi oluşturalım. Oluşturduğumuz arabaların 3 özelliğini de ekrana yazdıralım."
   ]
  },
  {
   "cell_type": "code",
   "execution_count": 2,
   "metadata": {},
   "outputs": [
    {
     "name": "stdout",
     "output_type": "stream",
     "text": [
      "araba1 nesnesinin Markası Mazda , Rengi  Bordo , Silindiri  4\n",
      "araba2 nesnesinin Markası Mazda , Rengi  Bordo , Silindiri  4\n"
     ]
    }
   ],
   "source": [
    "araba1 = araba()\n",
    "araba2 = araba()\n",
    "\n",
    "print(\"araba1 nesnesinin Markası\", araba1.marka, \", Rengi \", araba1.renk, \", Silindiri \", araba1.silindir)\n",
    "print(\"araba2 nesnesinin Markası\", araba2.marka, \", Rengi \", araba2.renk, \", Silindiri \", araba2.silindir)"
   ]
  },
  {
   "cell_type": "markdown",
   "metadata": {},
   "source": [
    "İki araba oluşturmamıza rağmen ikisinin de özellikleri aynı, halbuki araba sınıfından türetilen nesnelerin özellikleri farklı olabilir ve farklı olmalıdır. O halde yapıcı fonksiyon olan initializer() kullanmalıyız."
   ]
  },
  {
   "cell_type": "code",
   "execution_count": 3,
   "metadata": {},
   "outputs": [],
   "source": [
    "class araba():\n",
    "    \n",
    "    def __init__(self, marka, renk, silindir):\n",
    "            self.marka = marka\n",
    "            self.renk = renk\n",
    "            self.silindir = silindir"
   ]
  },
  {
   "cell_type": "code",
   "execution_count": 4,
   "metadata": {},
   "outputs": [
    {
     "name": "stdout",
     "output_type": "stream",
     "text": [
      "araba3 nesnesinin Markası honda , Rengi  lacivert , Silindiri  6\n"
     ]
    }
   ],
   "source": [
    "araba3 = araba(marka = \"honda\", renk = \"lacivert\", silindir = 6)\n",
    "\n",
    "print(\"araba3 nesnesinin Markası\", araba3.marka, \", Rengi \", araba3.renk, \", Silindiri \", araba3.silindir)"
   ]
  },
  {
   "cell_type": "markdown",
   "metadata": {},
   "source": [
    "Böylelikle farklı özelliklerde istediğimiz kadar nesne türetebiliriz bu sınıftan."
   ]
  },
  {
   "cell_type": "markdown",
   "metadata": {},
   "source": [
    "## Nesne Yönelimli Programlama Özellikleri ve Davranışlar<a id='44'></a>"
   ]
  },
  {
   "cell_type": "code",
   "execution_count": 5,
   "metadata": {},
   "outputs": [],
   "source": [
    "class insan():\n",
    "\n",
    "    def __init__(self, boy, kilo, goz_rengi):\n",
    "        \n",
    "        print(\"insan nesnesi yaratılıyor.\")\n",
    "        \n",
    "        self.boy = boy\n",
    "        self.kilo = kilo\n",
    "        self.goz_rengi = goz_rengi"
   ]
  },
  {
   "cell_type": "code",
   "execution_count": 6,
   "metadata": {
    "scrolled": true
   },
   "outputs": [
    {
     "name": "stdout",
     "output_type": "stream",
     "text": [
      "insan nesnesi yaratılıyor.\n"
     ]
    }
   ],
   "source": [
    "murat = insan(boy = 182, kilo = 83.5, goz_rengi = \"yesil\")  "
   ]
  },
  {
   "cell_type": "code",
   "execution_count": 7,
   "metadata": {},
   "outputs": [
    {
     "name": "stdout",
     "output_type": "stream",
     "text": [
      "182\n"
     ]
    }
   ],
   "source": [
    "print(murat.boy)"
   ]
  },
  {
   "cell_type": "code",
   "execution_count": 8,
   "metadata": {},
   "outputs": [],
   "source": [
    "class ev():\n",
    "\n",
    "    def __init__(self, metrekare, isitma, odaSayisi):\n",
    "        self.metrekare = metrekare\n",
    "        self.isitma = isitma\n",
    "        self.odaSayisi = odaSayisi\n",
    "        \n",
    "    def dogalgaz_taktir(self):\n",
    "        self.isitma = \"dogalgaz\""
   ]
  },
  {
   "cell_type": "code",
   "execution_count": 9,
   "metadata": {},
   "outputs": [],
   "source": [
    "evim = ev(50, \"klima\", 2)"
   ]
  },
  {
   "cell_type": "code",
   "execution_count": 10,
   "metadata": {
    "scrolled": true
   },
   "outputs": [
    {
     "name": "stdout",
     "output_type": "stream",
     "text": [
      "Evimin ısıtması klima\n"
     ]
    }
   ],
   "source": [
    "print(\"Evimin ısıtması\", evim.isitma)"
   ]
  },
  {
   "cell_type": "code",
   "execution_count": 11,
   "metadata": {},
   "outputs": [],
   "source": [
    "evim.dogalgaz_taktir()"
   ]
  },
  {
   "cell_type": "code",
   "execution_count": 12,
   "metadata": {
    "scrolled": true
   },
   "outputs": [
    {
     "name": "stdout",
     "output_type": "stream",
     "text": [
      "Artık evimin ısıtması dogalgaz\n"
     ]
    }
   ],
   "source": [
    "print(\"Artık evimin ısıtması\",evim.isitma)"
   ]
  },
  {
   "cell_type": "code",
   "execution_count": 13,
   "metadata": {},
   "outputs": [],
   "source": [
    "class calisan():\n",
    "    \n",
    "    def __init__(self, isim, maas, departman):\n",
    "        print(\"Çalışan sınıfının init fonksiyonu\")\n",
    "        self.isim = isim\n",
    "        self.maas = maas\n",
    "        self.departman = departman\n",
    "        \n",
    "    def bilgilerigoster(self):\n",
    "        print(\"Çalışan sınıfının bilgileri.....\")\n",
    "        print(\"İsim : {} \\nMaaş: {} \\nDepartman: {}\\n\".format(self.isim, self.maas, self.departman))\n",
    "        \n",
    "    def departman_degistir(self,yeni_departman):\n",
    "        print(\"Departman değişiyor....\")\n",
    "        self.departman = yeni_departman"
   ]
  },
  {
   "cell_type": "code",
   "execution_count": 14,
   "metadata": {},
   "outputs": [],
   "source": [
    "class muhasebeci(calisan): # Çalışan sınıfından miras alıyoruz.\n",
    "    pass # Pass Deyimi bir bloğu sonradan tanımlamak istediğimizde kullanılan bir deyimdir."
   ]
  },
  {
   "cell_type": "code",
   "execution_count": 15,
   "metadata": {},
   "outputs": [],
   "source": [
    "class sekreter(calisan): # Çalışan sınıfından miras alıyoruz.\n",
    "    pass # Pass Deyimi bir bloğu sonradan tanımlamak istediğimizde kullanılan bir deyimdir."
   ]
  },
  {
   "cell_type": "code",
   "execution_count": 16,
   "metadata": {},
   "outputs": [],
   "source": [
    "class mudur(calisan): # Çalışan sınıfından miras alıyoruz.\n",
    "    pass # Pass Deyimi bir bloğu sonradan tanımlamak istediğimizde kullanılan bir deyimdir."
   ]
  },
  {
   "cell_type": "code",
   "execution_count": 17,
   "metadata": {},
   "outputs": [
    {
     "name": "stdout",
     "output_type": "stream",
     "text": [
      "Çalışan sınıfının init fonksiyonu\n"
     ]
    }
   ],
   "source": [
    "muhasebeci1 = muhasebeci(\"Murat SAHIN\", 3000 ,\"IK\") # IK departmanında çalışan bir muhasebeci"
   ]
  },
  {
   "cell_type": "code",
   "execution_count": 18,
   "metadata": {
    "scrolled": true
   },
   "outputs": [
    {
     "name": "stdout",
     "output_type": "stream",
     "text": [
      "Çalışan sınıfının bilgileri.....\n",
      "İsim : Murat SAHIN \n",
      "Maaş: 3000 \n",
      "Departman: IK\n",
      "\n"
     ]
    }
   ],
   "source": [
    "muhasebeci1.bilgilerigoster()"
   ]
  },
  {
   "cell_type": "markdown",
   "metadata": {},
   "source": [
    "Eğer biz miras aldığımız metodları aynı isimle kendi sınıfımızda tekrar tanımlarsak , artık metodu çağırdığımız zaman miras aldığımız değil kendi metodumuz çalışacaktır. Buna Nesne Tabanlı Programlamada bir metodu override etmek denmektedir.\n",
    "\n",
    "Örneğin artık Çalışan sınıfının init metodunu kullanmak yerine ekip_lideri sınıfında init metodunu override edebiliriz. Böylelikle ekip_lideri sınıfına ekstra özellikler(attribute) ekleyebiliriz."
   ]
  },
  {
   "cell_type": "code",
   "execution_count": 19,
   "metadata": {},
   "outputs": [],
   "source": [
    "class ekip_lideri(calisan):\n",
    "    \n",
    "    def __init__(self, isim, maas, departman, ekip_kisi_sayisi): # Sorumlu olduğu kişi sayısı\n",
    "        print(\"Ekip liderinin init fonksiyonu\")\n",
    "        self.isim = isim\n",
    "        self.maas = maas\n",
    "        self.departman = departman\n",
    "        self.ekip_kisi_sayisi = ekip_kisi_sayisi # Yeni eklenen özellik\n",
    "        \n",
    "    def zam_yap(self,zam_miktarı):\n",
    "        print(\"Maaşa zam yapılıyor....\")\n",
    "        self.maas += zam_miktarı\n",
    "        print(\"Maaşa zam yapıldı!\")"
   ]
  },
  {
   "cell_type": "code",
   "execution_count": 20,
   "metadata": {
    "scrolled": true
   },
   "outputs": [
    {
     "name": "stdout",
     "output_type": "stream",
     "text": [
      "Ekip liderinin init fonksiyonu\n"
     ]
    }
   ],
   "source": [
    "ekip_lideri1 = ekip_lideri(\"Deniz KILINÇ\",5000,\"IT\",10) # Yönetici sınıfının init fonksiyonu. Override edildi."
   ]
  },
  {
   "cell_type": "code",
   "execution_count": 21,
   "metadata": {},
   "outputs": [
    {
     "data": {
      "text/plain": [
       "5000"
      ]
     },
     "execution_count": 21,
     "metadata": {},
     "output_type": "execute_result"
    }
   ],
   "source": [
    "ekip_lideri1.maas"
   ]
  },
  {
   "cell_type": "code",
   "execution_count": 22,
   "metadata": {},
   "outputs": [
    {
     "name": "stdout",
     "output_type": "stream",
     "text": [
      "Maaşa zam yapılıyor....\n",
      "Maaşa zam yapıldı!\n"
     ]
    }
   ],
   "source": [
    "ekip_lideri1.zam_yap(200)"
   ]
  },
  {
   "cell_type": "code",
   "execution_count": 23,
   "metadata": {
    "scrolled": true
   },
   "outputs": [
    {
     "data": {
      "text/plain": [
       "5200"
      ]
     },
     "execution_count": 23,
     "metadata": {},
     "output_type": "execute_result"
    }
   ],
   "source": [
    "ekip_lideri1.maas"
   ]
  },
  {
   "cell_type": "markdown",
   "metadata": {},
   "source": [
    "super anahtar kelimesi özellikle override ettiğimiz bir metodun içinde aynı zamanda miras aldığımız bir metodu kullanmak istersek kullanılabilir. Yani super en genel anlamıyla miras aldığımız sınıfın metodlarını alt sınıflardan kullanmamızı sağlar. Hemen örnek üzerinden anlamaya çalışalım."
   ]
  },
  {
   "cell_type": "code",
   "execution_count": 24,
   "metadata": {},
   "outputs": [],
   "source": [
    "class yonetici(calisan):\n",
    "    \n",
    "    def __init__(self,isim,maas,departman,kisi_sayisi): # Sorumlu olduğu kişi sayısı\n",
    "        super().__init__(isim, maas, departman) # 3 tane özelliği Çalışan fonksiyonunun alıyor.\n",
    "        print(\"Yönetici sınıfının init fonksiyonu\")\n",
    "        self.kisi_sayisi = kisi_sayisi # Ekstra özelliği de kendimiz yazıyoruz.\n",
    "        \n",
    "    def bilgilerigoster(self):\n",
    "        print(\"Yönetici sınıfının bilgileri.....\")\n",
    "        print(\"İsim : {} \\nMaaş: {} \\nDepartman: {}\\nSorumlu olduğu kişi sayısı: {}\".format(self.isim,self.maas,self.departman,self.kisi_sayisi))\n",
    "        \n",
    "    def zam_yap(self,zam_miktarı):\n",
    "        print(\"Maaşa zam yapılıyor....\")\n",
    "        self.maas += zam_miktarı"
   ]
  },
  {
   "cell_type": "markdown",
   "metadata": {},
   "source": [
    "Burada \"super().__init()\" diyerek Çalışan sınıfının metodunu özel olarak çağırarak isim, maaş , departman özelliklerini bu metodla belirledik."
   ]
  },
  {
   "cell_type": "code",
   "execution_count": 25,
   "metadata": {
    "scrolled": true
   },
   "outputs": [
    {
     "name": "stdout",
     "output_type": "stream",
     "text": [
      "Çalışan sınıfının init fonksiyonu\n",
      "Yönetici sınıfının init fonksiyonu\n"
     ]
    }
   ],
   "source": [
    "yonetici1 = yonetici(\"Ali Kemal\",10000,\"Tüm Departmanlar\",50)"
   ]
  },
  {
   "cell_type": "code",
   "execution_count": 26,
   "metadata": {},
   "outputs": [
    {
     "name": "stdout",
     "output_type": "stream",
     "text": [
      "Yönetici sınıfının bilgileri.....\n",
      "İsim : Ali Kemal \n",
      "Maaş: 10000 \n",
      "Departman: Tüm Departmanlar\n",
      "Sorumlu olduğu kişi sayısı: 50\n"
     ]
    }
   ],
   "source": [
    "yonetici1.bilgilerigoster()"
   ]
  }
 ],
 "metadata": {
  "kernelspec": {
   "display_name": "Python 3 (ipykernel)",
   "language": "python",
   "name": "python3"
  },
  "language_info": {
   "codemirror_mode": {
    "name": "ipython",
    "version": 3
   },
   "file_extension": ".py",
   "mimetype": "text/x-python",
   "name": "python",
   "nbconvert_exporter": "python",
   "pygments_lexer": "ipython3",
   "version": "3.9.13"
  }
 },
 "nbformat": 4,
 "nbformat_minor": 2
}
