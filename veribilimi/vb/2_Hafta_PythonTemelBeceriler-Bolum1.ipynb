{
 "cells": [
  {
   "cell_type": "markdown",
   "metadata": {},
   "source": [
    "# 2. Hafta | Python ile Temel Beceriler (Bölüm 1)"
   ]
  },
  {
   "cell_type": "markdown",
   "metadata": {},
   "source": [
    "### İçindekiler\n",
    "\n",
    "* [Giriş:](#0)\n",
    "    * [Merhaba Dünya !](#1)\n",
    "    * [Girinti Hassasiyeti](#2)\n",
    "    * [Değişken Tanımlama](#3)\n",
    "    * [Shift + TAB](#4)\n",
    "    * [Yorum Yazmak](#5)\n",
    "    * [Bazı Notasyon Kuralları](#6)\n",
    "\n",
    "\n",
    "* [Değişken Tipleri:](#7)\n",
    "\n",
    "    * [Liste Değişken Tipi](#8)\n",
    "    * [Demet (Tuple) Değişken Tipi](#9)\n",
    "    * [Karakter Dizisi (String) Değişken Tipi](#10)\n",
    "    * [Boolean Değişken Tipi](#11)\n",
    "    * [Sözlük (Dictionary) Değişken Tipi](#12)\n",
    "    * [Değişken Dönüşümleri (Casting)](#13)\n",
    "    \n",
    "    \n",
    "* [Operatörler:](#14)\n",
    "\n",
    "    * [Aritmetik Operatörler](#15)\n",
    "    * [Atama Operatörleri](#16)\n",
    "    * [Karşılaştırma Operatörleri](#17)\n",
    "    * [Mantıksal Operatörler](#18)\n",
    "    * [Kimlik Operatörleri](#19)\n",
    "    * [Üyelik Operatörleri](#20)\n",
    "\n",
    "   \n",
    "* [Koşullu İfadeler:](#21)\n",
    "\n",
    "    * [If - Else](#22)\n",
    "    * [Kısa Yol Koşul İfadesi](#23)\n",
    "    * [And ile Koşul İfadeleri](#24)\n",
    "    * [Or ile Koşul İfadeleri](#25)\n",
    "    * [İç İçe if Yapılanması](#26)\n",
    "    * [Pass Geçmek](#27)\n",
    "\n",
    "   \n",
    "* [Döngüler:](#28)\n",
    "\n",
    "    * [While Döngüsü](#29)\n",
    "    * [For Döngüsü](#30)\n",
    "\n",
    "\n",
    "* [Fonksiyonlar:](#31)\n",
    "\n",
    "    * [Sabit Mesaj Yazdıran Fonksiyon](#32)\n",
    "    * [Parametre ile Mesaj Yazdıran Fonksiyon](#33)\n",
    "    * [Değer Döndüren Fonksiyon](#34)\n",
    "    * [Varsayılan Parametreli Fonksyion](#35)\n",
    "    * [*arg ile Bağımsız Parametreli Fonksiyon](#36)\n",
    "    * [*kwargs ile Bağımsız Parametreli Fonksiyon](#37)\n",
    "    * [Birden Fazla Değer Döndüren Fonksiyon](#38)\n",
    "    * [Pass Geçen Fonksiyon](#39)\n",
    "    * [Lambda Fonksyion](#40)\n",
    "    \n",
    "* [pip Paket Yöneticisi](#41)"
   ]
  },
  {
   "cell_type": "markdown",
   "metadata": {},
   "source": [
    "## Giriş <a id='0'></a>"
   ]
  },
  {
   "cell_type": "markdown",
   "metadata": {},
   "source": [
    "### Merhaba Dünya! <a id='1'></a>"
   ]
  },
  {
   "cell_type": "markdown",
   "metadata": {},
   "source": [
    "Bir mesaj yazdırmak için \"print()\" fonksiyonu kullanılabilir. Parametre olarak yazdırılacak değeri alır."
   ]
  },
  {
   "cell_type": "code",
   "execution_count": 1,
   "metadata": {
    "scrolled": false
   },
   "outputs": [
    {
     "name": "stdout",
     "output_type": "stream",
     "text": [
      "Data never sleeps!\n"
     ]
    }
   ],
   "source": [
    "print(\"Data never sleeps!\")"
   ]
  },
  {
   "cell_type": "markdown",
   "metadata": {},
   "source": [
    "### Girinti Hassasiyeti <a id='2'></a>"
   ]
  },
  {
   "cell_type": "markdown",
   "metadata": {},
   "source": [
    "Python diğer dillerin aksine girintilere duyarlıdır."
   ]
  },
  {
   "cell_type": "code",
   "execution_count": 2,
   "metadata": {
    "scrolled": false
   },
   "outputs": [
    {
     "ename": "IndentationError",
     "evalue": "unexpected indent (460382527.py, line 2)",
     "output_type": "error",
     "traceback": [
      "\u001b[1;36m  File \u001b[1;32m\"C:\\Users\\nihan.ozbaltan\\AppData\\Local\\Temp\\ipykernel_7232\\460382527.py\"\u001b[1;36m, line \u001b[1;32m2\u001b[0m\n\u001b[1;33m    print(\"Data is the new oil.\")\u001b[0m\n\u001b[1;37m    ^\u001b[0m\n\u001b[1;31mIndentationError\u001b[0m\u001b[1;31m:\u001b[0m unexpected indent\n"
     ]
    }
   ],
   "source": [
    "print(\"Data never sleeps.\")\n",
    " print(\"Data is the new oil.\")"
   ]
  },
  {
   "cell_type": "markdown",
   "metadata": {},
   "source": [
    "### Değişken Tanımlama  <a id='3'></a>"
   ]
  },
  {
   "cell_type": "markdown",
   "metadata": {},
   "source": [
    "Python'da değişken tanımlamak diğer dillere nazaran daha basittir. Değişken tipi belirtmenize gerek yoktur, Python dinamik tipli bir dil <b>(dynamically-typed language)</b> olduğu için değişken tipini kendisi tespit eder."
   ]
  },
  {
   "cell_type": "code",
   "execution_count": 3,
   "metadata": {},
   "outputs": [
    {
     "name": "stdout",
     "output_type": "stream",
     "text": [
      "5\n"
     ]
    }
   ],
   "source": [
    "x = 5\n",
    "print(x)"
   ]
  },
  {
   "cell_type": "code",
   "execution_count": 4,
   "metadata": {
    "scrolled": true
   },
   "outputs": [
    {
     "name": "stdout",
     "output_type": "stream",
     "text": [
      "Data Science\n"
     ]
    }
   ],
   "source": [
    "y = \"Data Science\"\n",
    "print(y)"
   ]
  },
  {
   "cell_type": "code",
   "execution_count": 5,
   "metadata": {},
   "outputs": [
    {
     "name": "stdout",
     "output_type": "stream",
     "text": [
      "Data Science\n",
      "5\n"
     ]
    }
   ],
   "source": [
    "print(y)\n",
    "print(x)"
   ]
  },
  {
   "cell_type": "code",
   "execution_count": 6,
   "metadata": {},
   "outputs": [
    {
     "name": "stdout",
     "output_type": "stream",
     "text": [
      "3.56\n"
     ]
    }
   ],
   "source": [
    "z = 3.56\n",
    "print(z)"
   ]
  },
  {
   "cell_type": "code",
   "execution_count": 7,
   "metadata": {},
   "outputs": [
    {
     "name": "stdout",
     "output_type": "stream",
     "text": [
      "True\n",
      "False\n"
     ]
    }
   ],
   "source": [
    "v = True\n",
    "m = False\n",
    "print(v)\n",
    "print(m)"
   ]
  },
  {
   "cell_type": "code",
   "execution_count": 8,
   "metadata": {
    "scrolled": false
   },
   "outputs": [
    {
     "name": "stdout",
     "output_type": "stream",
     "text": [
      "True False 5 Data Science 3.56\n"
     ]
    }
   ],
   "source": [
    "print(v, m, x, y, z)"
   ]
  },
  {
   "cell_type": "markdown",
   "metadata": {},
   "source": [
    "### Shift + TAB ?  <a id='4'></a>"
   ]
  },
  {
   "cell_type": "markdown",
   "metadata": {},
   "source": [
    "Herhangi bir fonksiyon yazdığınızda eğer aklınıza hangi parametreler aldığı gelmiyorsa ve üstelik internetiniz yoksa yine de yardım alabilirsiniz. Parantezin içinde \"Shift\" ve \"Tab\" tuşlarına basılı tutarak yardım alabilirsiniz."
   ]
  },
  {
   "attachments": {
    "resim.png": {
     "image/png": "[encoded data removed]"
    }
   },
   "cell_type": "markdown",
   "metadata": {},
   "source": [
    "![resim.png](attachment:resim.png)"
   ]
  },
  {
   "cell_type": "markdown",
   "metadata": {},
   "source": [
    "Yeni parametreleri keşfedelim."
   ]
  },
  {
   "cell_type": "code",
   "execution_count": 9,
   "metadata": {},
   "outputs": [],
   "source": [
    "x = 5\n",
    "x = \"deneme\""
   ]
  },
  {
   "cell_type": "code",
   "execution_count": 10,
   "metadata": {},
   "outputs": [
    {
     "data": {
      "text/plain": [
       "str"
      ]
     },
     "execution_count": 10,
     "metadata": {},
     "output_type": "execute_result"
    }
   ],
   "source": [
    "type(x)"
   ]
  },
  {
   "cell_type": "code",
   "execution_count": 11,
   "metadata": {},
   "outputs": [
    {
     "name": "stdout",
     "output_type": "stream",
     "text": [
      "\n"
     ]
    }
   ],
   "source": [
    "print()"
   ]
  },
  {
   "cell_type": "code",
   "execution_count": 12,
   "metadata": {
    "scrolled": false
   },
   "outputs": [
    {
     "name": "stdout",
     "output_type": "stream",
     "text": [
      "True - False - deneme - 3.56 - Data Science\n"
     ]
    }
   ],
   "source": [
    "print(v, m, x, z, y, sep = \" - \")"
   ]
  },
  {
   "cell_type": "code",
   "execution_count": 13,
   "metadata": {
    "scrolled": true
   },
   "outputs": [
    {
     "name": "stdout",
     "output_type": "stream",
     "text": [
      "True - False - deneme - 3.56 - Data Science."
     ]
    }
   ],
   "source": [
    "print(v, m, x, z, y, sep = \" - \", end = \".\")"
   ]
  },
  {
   "cell_type": "markdown",
   "metadata": {},
   "source": [
    "### Yorum Yazmak <a id='5'></a>"
   ]
  },
  {
   "cell_type": "markdown",
   "metadata": {},
   "source": [
    "Yorum yazmak için \"#\" karakteri ile satıra başlamak yeterlidir."
   ]
  },
  {
   "cell_type": "code",
   "execution_count": 14,
   "metadata": {
    "scrolled": true
   },
   "outputs": [
    {
     "name": "stdout",
     "output_type": "stream",
     "text": [
      "Hello world !\n"
     ]
    }
   ],
   "source": [
    "# Yorum satırı yazmak için \"#\" ile başlamak yeterlidir.\n",
    "\n",
    "print(\"Hello world !\") # Buraya yazılanlar yorum satırıdır."
   ]
  },
  {
   "cell_type": "markdown",
   "metadata": {},
   "source": [
    "Kodu daha okunabilir kılmak için Notebook kullanmadığınız zamanlar çoklu yorum satırı kullanmak için 3 adet tırnak işaretini kullanabilirsiniz."
   ]
  },
  {
   "cell_type": "code",
   "execution_count": 15,
   "metadata": {},
   "outputs": [
    {
     "name": "stdout",
     "output_type": "stream",
     "text": [
      "First hello!\n",
      "Second hello!\n"
     ]
    }
   ],
   "source": [
    "print(\"First hello!\")\n",
    "\n",
    "\"\"\"\n",
    "Üçlü tırnak ile açılıp kapanan bu satırlar\n",
    "birden fazla yorum satırı yazmak için kullanılır.\n",
    "\"\"\"\n",
    "\n",
    "print(\"Second hello!\")"
   ]
  },
  {
   "cell_type": "markdown",
   "metadata": {},
   "source": [
    "### Bazı Notasyon Kuralları <a id='6'></a>"
   ]
  },
  {
   "cell_type": "markdown",
   "metadata": {},
   "source": [
    "#### Tırnak Meselesi"
   ]
  },
  {
   "cell_type": "markdown",
   "metadata": {},
   "source": [
    "Python'da çift veya tek tırnak aynı şeyi ifade eder. İfade edilen şey string bir değer olduğudur."
   ]
  },
  {
   "cell_type": "code",
   "execution_count": 16,
   "metadata": {},
   "outputs": [
    {
     "name": "stdout",
     "output_type": "stream",
     "text": [
      "Hello World !\n"
     ]
    }
   ],
   "source": [
    "print(\"Hello\", 'World !')"
   ]
  },
  {
   "cell_type": "markdown",
   "metadata": {},
   "source": [
    "#### Büyük & Küçük Harf Meselesi"
   ]
  },
  {
   "cell_type": "markdown",
   "metadata": {},
   "source": [
    "Python büyük ve küçük harf konusunda duyarlıdır."
   ]
  },
  {
   "cell_type": "code",
   "execution_count": 56,
   "metadata": {},
   "outputs": [],
   "source": [
    "ad = \"Veri\"\n",
    "Ad = \"Bilimi\"\n",
    "AD = \"Eğitimi\""
   ]
  },
  {
   "cell_type": "code",
   "execution_count": 57,
   "metadata": {},
   "outputs": [
    {
     "name": "stdout",
     "output_type": "stream",
     "text": [
      "Veri Bilimi Eğitimi\n"
     ]
    }
   ],
   "source": [
    "print(ad, Ad, AD, sep = \" \")"
   ]
  },
  {
   "cell_type": "markdown",
   "metadata": {},
   "source": [
    "#### Değişken Oluştururken..."
   ]
  },
  {
   "cell_type": "markdown",
   "metadata": {},
   "source": [
    "Değişken ismi belirlerken sayı ile başlanmaz. "
   ]
  },
  {
   "cell_type": "code",
   "execution_count": 17,
   "metadata": {},
   "outputs": [
    {
     "ename": "SyntaxError",
     "evalue": "invalid syntax (1688540186.py, line 1)",
     "output_type": "error",
     "traceback": [
      "\u001b[1;36m  File \u001b[1;32m\"C:\\Users\\nihan.ozbaltan\\AppData\\Local\\Temp\\ipykernel_7232\\1688540186.py\"\u001b[1;36m, line \u001b[1;32m1\u001b[0m\n\u001b[1;33m    2ad = \"Veri\"\u001b[0m\n\u001b[1;37m     ^\u001b[0m\n\u001b[1;31mSyntaxError\u001b[0m\u001b[1;31m:\u001b[0m invalid syntax\n"
     ]
    }
   ],
   "source": [
    "2ad = \"Veri\""
   ]
  },
  {
   "cell_type": "markdown",
   "metadata": {},
   "source": [
    "Sayı ile başlamak zorunda olunan durumlarda alt çizgi \"_\" ile başlanabilir."
   ]
  },
  {
   "cell_type": "code",
   "execution_count": 18,
   "metadata": {},
   "outputs": [
    {
     "name": "stdout",
     "output_type": "stream",
     "text": [
      "Veri\n"
     ]
    }
   ],
   "source": [
    "_2ad = \"Veri\"\n",
    "\n",
    "print(_2ad)"
   ]
  },
  {
   "cell_type": "markdown",
   "metadata": {},
   "source": [
    "Değişken isminin başından sonra gelen diğer karakterlerde ve sonunda sayı olabilir"
   ]
  },
  {
   "cell_type": "code",
   "execution_count": 19,
   "metadata": {},
   "outputs": [
    {
     "name": "stdout",
     "output_type": "stream",
     "text": [
      "Veri\n"
     ]
    }
   ],
   "source": [
    "ad2 = \"Veri\"\n",
    "\n",
    "print(ad2)"
   ]
  },
  {
   "cell_type": "markdown",
   "metadata": {},
   "source": [
    "Değişken ismi tüm harfleri, tam sayıları ve alt çizgiyi kapsayabilir."
   ]
  },
  {
   "cell_type": "code",
   "execution_count": 20,
   "metadata": {},
   "outputs": [
    {
     "name": "stdout",
     "output_type": "stream",
     "text": [
      "Veri Bilimi\n"
     ]
    }
   ],
   "source": [
    "ad_5 = \"Veri Bilimi\"\n",
    "\n",
    "print(ad_5)"
   ]
  },
  {
   "cell_type": "markdown",
   "metadata": {},
   "source": [
    "Tek bir satırda istediğimiz kadar değişken tanımlayabiliriz."
   ]
  },
  {
   "cell_type": "code",
   "execution_count": 21,
   "metadata": {},
   "outputs": [
    {
     "name": "stdout",
     "output_type": "stream",
     "text": [
      "Veri True 5.87\n"
     ]
    }
   ],
   "source": [
    "\"\"\"\n",
    "\n",
    "a = \"Veri\"\n",
    "b = True\n",
    "c = 5.87\n",
    "\n",
    "\"\"\"\n",
    "\n",
    "a, b, c = \"Veri\", True, 5.87\n",
    "\n",
    "print(a, b, c)"
   ]
  },
  {
   "cell_type": "code",
   "execution_count": 22,
   "metadata": {},
   "outputs": [],
   "source": [
    "a = 5\n",
    "b = 3"
   ]
  },
  {
   "cell_type": "code",
   "execution_count": 23,
   "metadata": {},
   "outputs": [],
   "source": [
    "a,b = b,a"
   ]
  },
  {
   "cell_type": "code",
   "execution_count": 24,
   "metadata": {},
   "outputs": [
    {
     "data": {
      "text/plain": [
       "3"
      ]
     },
     "execution_count": 24,
     "metadata": {},
     "output_type": "execute_result"
    }
   ],
   "source": [
    "a"
   ]
  },
  {
   "cell_type": "code",
   "execution_count": 25,
   "metadata": {},
   "outputs": [
    {
     "data": {
      "text/plain": [
       "5"
      ]
     },
     "execution_count": 25,
     "metadata": {},
     "output_type": "execute_result"
    }
   ],
   "source": [
    "b"
   ]
  },
  {
   "cell_type": "markdown",
   "metadata": {},
   "source": [
    "Tek bir satırda istediğimiz kadar değişkene aynı değeri atayabiliriz."
   ]
  },
  {
   "cell_type": "code",
   "execution_count": 26,
   "metadata": {},
   "outputs": [
    {
     "name": "stdout",
     "output_type": "stream",
     "text": [
      "DATA DATA DATA\n"
     ]
    }
   ],
   "source": [
    "x = y = z = \"DATA\"\n",
    "\n",
    "print(x,y,z)"
   ]
  },
  {
   "cell_type": "markdown",
   "metadata": {},
   "source": [
    "Bir metni defalarca çoklayıp yeni bir değişkene atabiliriz."
   ]
  },
  {
   "cell_type": "code",
   "execution_count": 27,
   "metadata": {},
   "outputs": [
    {
     "name": "stdout",
     "output_type": "stream",
     "text": [
      "DATA DATA DATA DATA DATA \n"
     ]
    }
   ],
   "source": [
    "x = \"DATA \"\n",
    "\n",
    "on_x = x * 5 # 5 defa metni çoklayacak ve on_x değişkenine atayacak.\n",
    "\n",
    "print(on_x)"
   ]
  },
  {
   "cell_type": "markdown",
   "metadata": {},
   "source": [
    "İki metni \"+\" operatörü ile birleştirebiliriz.\n",
    "<br/><br/><b>Not:</b> Bu noktada operatörlerin aşırı yüklenmesi (operator overloading) kavramından bahsetmek lazım. Python'da operatörlerin aşırı yüklenmesi özelliği desteklenmiştir. Artı operatörü hem sayıları toplar hem de stringleri birleştirir. "
   ]
  },
  {
   "cell_type": "code",
   "execution_count": 69,
   "metadata": {
    "scrolled": true
   },
   "outputs": [
    {
     "name": "stdout",
     "output_type": "stream",
     "text": [
      "DATA SCIENCE\n"
     ]
    }
   ],
   "source": [
    "x = \"DATA \"\n",
    "y = \"SCIENCE\"\n",
    "\n",
    "z = x + y\n",
    "\n",
    "print(z) # z yerine (x + y) ifadesini de yazabiliriz."
   ]
  },
  {
   "cell_type": "markdown",
   "metadata": {},
   "source": [
    "## Değişken Tipleri <a id='7'></a>"
   ]
  },
  {
   "cell_type": "markdown",
   "metadata": {},
   "source": [
    "En sık kullanılan değişken tipleri aşağıda görüntülenmektedir."
   ]
  },
  {
   "attachments": {
    "resim.png": {
     "image/png": "[encoded data removed]"
    }
   },
   "cell_type": "markdown",
   "metadata": {},
   "source": [
    "![resim.png](attachment:resim.png)"
   ]
  },
  {
   "cell_type": "markdown",
   "metadata": {},
   "source": [
    "Bu zamana kadar oluşturduğumuz her bir değişkenin tipi de vardı. Sorgulamak için type() fonksiyonuna istediğimiz değişkeni yollayabiliriz."
   ]
  },
  {
   "cell_type": "code",
   "execution_count": 70,
   "metadata": {},
   "outputs": [],
   "source": [
    "a = 5        # tam sayı, integer\n",
    "b = 2.45     # kayan sayı, float\n",
    "c = 1j       # karmaşık sayı, complex\n",
    "d = \"Murat\"  # karakter dizisi, string\n",
    "e = False    # İkili değişken, boolean"
   ]
  },
  {
   "cell_type": "code",
   "execution_count": 71,
   "metadata": {},
   "outputs": [
    {
     "name": "stdout",
     "output_type": "stream",
     "text": [
      "<class 'int'>\n",
      "<class 'float'>\n",
      "<class 'complex'>\n",
      "<class 'str'>\n",
      "<class 'bool'>\n"
     ]
    }
   ],
   "source": [
    "print(type(a),type(b), type(c), type(d), type(e), sep = \"\\n\") "
   ]
  },
  {
   "cell_type": "markdown",
   "metadata": {},
   "source": [
    "### Liste Değişkeni  <a id='8'></a>"
   ]
  },
  {
   "cell_type": "markdown",
   "metadata": {},
   "source": [
    "Liste aldığı değerleri bir dizi olarak tutar."
   ]
  },
  {
   "cell_type": "code",
   "execution_count": 72,
   "metadata": {},
   "outputs": [
    {
     "name": "stdout",
     "output_type": "stream",
     "text": [
      "['elma', 'armut', 'portakal']\n"
     ]
    }
   ],
   "source": [
    "liste = [\"elma\", \"armut\", \"portakal\"]\n",
    "\n",
    "print(liste)"
   ]
  },
  {
   "cell_type": "code",
   "execution_count": 73,
   "metadata": {},
   "outputs": [
    {
     "name": "stdout",
     "output_type": "stream",
     "text": [
      "<class 'list'>\n"
     ]
    }
   ],
   "source": [
    "print(type(liste))"
   ]
  },
  {
   "cell_type": "markdown",
   "metadata": {},
   "source": [
    "Oldukça esnektir, listenin her elemanı farklı bir veri tipi içerebilir. "
   ]
  },
  {
   "cell_type": "code",
   "execution_count": 74,
   "metadata": {},
   "outputs": [
    {
     "name": "stdout",
     "output_type": "stream",
     "text": [
      "['elma', 25, True, 0, 3.1689, False]\n"
     ]
    }
   ],
   "source": [
    "liste2 = [\"elma\", 25, True, 0, 3.1689, False]\n",
    "\n",
    "print(liste2)"
   ]
  },
  {
   "cell_type": "code",
   "execution_count": 75,
   "metadata": {},
   "outputs": [],
   "source": [
    "metin = \"aaass s ss \""
   ]
  },
  {
   "cell_type": "markdown",
   "metadata": {},
   "source": [
    "Listenin elemanlarına erişmek için indis numaralarını vermek gerekir. Liste indisleri sıfırdan başlar. Tek bir elemana erişmek için o elemanın indisini vermek yeterlidir."
   ]
  },
  {
   "cell_type": "code",
   "execution_count": 76,
   "metadata": {
    "scrolled": true
   },
   "outputs": [
    {
     "data": {
      "text/plain": [
       "'elma'"
      ]
     },
     "execution_count": 76,
     "metadata": {},
     "output_type": "execute_result"
    }
   ],
   "source": [
    "liste2[0]  # listenin ilk elemanını döndürür."
   ]
  },
  {
   "cell_type": "code",
   "execution_count": 77,
   "metadata": {},
   "outputs": [
    {
     "name": "stdout",
     "output_type": "stream",
     "text": [
      "True\n"
     ]
    }
   ],
   "source": [
    "print(liste2[2])  # listenin üçüncü elemanını döndürür."
   ]
  },
  {
   "cell_type": "markdown",
   "metadata": {},
   "source": [
    "## Listelerde Dilimleme İşlemleri"
   ]
  },
  {
   "attachments": {
    "resim.png": {
     "image/png": "[encoded data removed]"
    }
   },
   "cell_type": "markdown",
   "metadata": {},
   "source": [
    "![resim.png](attachment:resim.png)"
   ]
  },
  {
   "cell_type": "markdown",
   "metadata": {},
   "source": [
    "Listenin ilk üç elemanı veya ortadan iki elemanı gibi daha spesifik aralıkları seçmek istersek \":\" operatörünü kullanmalıyız."
   ]
  },
  {
   "cell_type": "code",
   "execution_count": 79,
   "metadata": {},
   "outputs": [
    {
     "name": "stdout",
     "output_type": "stream",
     "text": [
      "['elma', 25, True, 0, 3.1689, False]\n"
     ]
    }
   ],
   "source": [
    "liste2 = [\"elma\", 25, True, 0, 3.1689, False]\n",
    "print(liste2)"
   ]
  },
  {
   "cell_type": "code",
   "execution_count": 81,
   "metadata": {},
   "outputs": [
    {
     "data": {
      "text/plain": [
       "[True, 0, 3.1689]"
      ]
     },
     "execution_count": 81,
     "metadata": {},
     "output_type": "execute_result"
    }
   ],
   "source": [
    "liste2[2 : 5]    \n",
    "# listenin 2. 3. ve 4. elemanlarını gösterir."
   ]
  },
  {
   "cell_type": "code",
   "execution_count": 82,
   "metadata": {},
   "outputs": [
    {
     "data": {
      "text/plain": [
       "[25, True]"
      ]
     },
     "execution_count": 82,
     "metadata": {},
     "output_type": "execute_result"
    }
   ],
   "source": [
    "liste2[1 : 3]    \n",
    "# listenin 1. elemanından başlar ve 3. elemana kadar gösterir."
   ]
  },
  {
   "cell_type": "code",
   "execution_count": 83,
   "metadata": {},
   "outputs": [
    {
     "data": {
      "text/plain": [
       "['elma', 25, True]"
      ]
     },
     "execution_count": 83,
     "metadata": {},
     "output_type": "execute_result"
    }
   ],
   "source": [
    "liste2[ : 3]      \n",
    "# listenin başından başlar, 3. elemana kadar gösterir."
   ]
  },
  {
   "cell_type": "code",
   "execution_count": 84,
   "metadata": {},
   "outputs": [
    {
     "data": {
      "text/plain": [
       "[0, 3.1689, False]"
      ]
     },
     "execution_count": 84,
     "metadata": {},
     "output_type": "execute_result"
    }
   ],
   "source": [
    "liste2[3 : ]      \n",
    "# listenin 3. elemanından başlar, sonuncu elemana kadar gösterir."
   ]
  },
  {
   "cell_type": "markdown",
   "metadata": {},
   "source": [
    "En azından bir elemanlı bir listenin ilk elemanını göstermek istersek 0 yazmamız gerektiğini biliyoruz. Fakat ya listenin sonuncu elemanını göstermek istersek? Listenin kaç elemanlı olduğunu bilmeden bunu nasıl yapabiliriz?"
   ]
  },
  {
   "cell_type": "code",
   "execution_count": 85,
   "metadata": {},
   "outputs": [
    {
     "data": {
      "text/plain": [
       "False"
      ]
     },
     "execution_count": 85,
     "metadata": {},
     "output_type": "execute_result"
    }
   ],
   "source": [
    "liste2[-1]  # Sondan birinci elemanı gösterir."
   ]
  },
  {
   "cell_type": "code",
   "execution_count": 86,
   "metadata": {},
   "outputs": [
    {
     "data": {
      "text/plain": [
       "0"
      ]
     },
     "execution_count": 86,
     "metadata": {},
     "output_type": "execute_result"
    }
   ],
   "source": [
    "liste2[-3]  # Sondan üçüncü elemanı gösterir."
   ]
  },
  {
   "cell_type": "markdown",
   "metadata": {},
   "source": [
    "Sondan iki elemanını göstermek istersek?"
   ]
  },
  {
   "cell_type": "code",
   "execution_count": 87,
   "metadata": {},
   "outputs": [
    {
     "data": {
      "text/plain": [
       "[3.1689, False]"
      ]
     },
     "execution_count": 87,
     "metadata": {},
     "output_type": "execute_result"
    }
   ],
   "source": [
    "liste2[-2 : ]    # Sondan ikinci elemandan başlar, sonuncu elemana kadar gösterir."
   ]
  },
  {
   "cell_type": "code",
   "execution_count": 88,
   "metadata": {},
   "outputs": [
    {
     "data": {
      "text/plain": [
       "[0, 3.1689]"
      ]
     },
     "execution_count": 88,
     "metadata": {},
     "output_type": "execute_result"
    }
   ],
   "source": [
    "liste2[-3 : -1]  # Sondan 3. elemanından başlar, sondan 1. elemana kadar gösterir."
   ]
  },
  {
   "cell_type": "code",
   "execution_count": 89,
   "metadata": {},
   "outputs": [
    {
     "data": {
      "text/plain": [
       "[True, 0, 3.1689, False]"
      ]
     },
     "execution_count": 89,
     "metadata": {},
     "output_type": "execute_result"
    }
   ],
   "source": [
    "liste2[-4 : ]  # Listenin son 4 elemanını gösterir."
   ]
  },
  {
   "cell_type": "code",
   "execution_count": 90,
   "metadata": {},
   "outputs": [
    {
     "data": {
      "text/plain": [
       "[True, 0, 3.1689]"
      ]
     },
     "execution_count": 90,
     "metadata": {},
     "output_type": "execute_result"
    }
   ],
   "source": [
    "liste2[2 : -1] # listenin 3. elemanında başlar ve sondan ikinci elemana kadar gösterir."
   ]
  },
  {
   "cell_type": "code",
   "execution_count": 91,
   "metadata": {},
   "outputs": [
    {
     "data": {
      "text/plain": [
       "['elma', 25, True, 0]"
      ]
     },
     "execution_count": 91,
     "metadata": {},
     "output_type": "execute_result"
    }
   ],
   "source": [
    "liste2[ : 4] # listenin başından başlar ve 4. elemana kadar gösterir."
   ]
  },
  {
   "cell_type": "markdown",
   "metadata": {},
   "source": [
    "Listenin başından ve sonundan kısıtlama yapmaksızın tüm elemanları gösterelim."
   ]
  },
  {
   "cell_type": "code",
   "execution_count": 92,
   "metadata": {},
   "outputs": [
    {
     "data": {
      "text/plain": [
       "[False, 3.1689, 0, True, 25, 'elma']"
      ]
     },
     "execution_count": 92,
     "metadata": {},
     "output_type": "execute_result"
    }
   ],
   "source": [
    "liste2[::-1]"
   ]
  },
  {
   "cell_type": "markdown",
   "metadata": {},
   "source": [
    "Listenin 0. elemanından 5. elemanına kadar ikişer atlayarak gösterimde bulunalım."
   ]
  },
  {
   "cell_type": "code",
   "execution_count": 93,
   "metadata": {},
   "outputs": [
    {
     "data": {
      "text/plain": [
       "['elma', True, 3.1689]"
      ]
     },
     "execution_count": 93,
     "metadata": {},
     "output_type": "execute_result"
    }
   ],
   "source": [
    "liste2[0:5:2]  # adım sayısını 2 belirledik, bu zamana kadar varsayılan adım hep 1 alınmıştı."
   ]
  },
  {
   "cell_type": "code",
   "execution_count": 94,
   "metadata": {},
   "outputs": [
    {
     "data": {
      "text/plain": [
       "['elma', 25, True, 0, 3.1689, False]"
      ]
     },
     "execution_count": 94,
     "metadata": {},
     "output_type": "execute_result"
    }
   ],
   "source": [
    "liste2"
   ]
  },
  {
   "cell_type": "markdown",
   "metadata": {},
   "source": [
    "Listenin uzunluğunu öğrenmek istersek?"
   ]
  },
  {
   "cell_type": "code",
   "execution_count": 95,
   "metadata": {},
   "outputs": [
    {
     "data": {
      "text/plain": [
       "6"
      ]
     },
     "execution_count": 95,
     "metadata": {},
     "output_type": "execute_result"
    }
   ],
   "source": [
    "len(liste2)"
   ]
  },
  {
   "cell_type": "code",
   "execution_count": 96,
   "metadata": {},
   "outputs": [
    {
     "data": {
      "text/plain": [
       "False"
      ]
     },
     "execution_count": 96,
     "metadata": {},
     "output_type": "execute_result"
    }
   ],
   "source": [
    "liste2[len(liste2)-1]"
   ]
  },
  {
   "cell_type": "code",
   "execution_count": 97,
   "metadata": {},
   "outputs": [
    {
     "data": {
      "text/plain": [
       "False"
      ]
     },
     "execution_count": 97,
     "metadata": {},
     "output_type": "execute_result"
    }
   ],
   "source": [
    "liste2[-1]"
   ]
  },
  {
   "cell_type": "markdown",
   "metadata": {},
   "source": [
    "Listenin sonuna yeni nesne eklemek istersek?"
   ]
  },
  {
   "cell_type": "code",
   "execution_count": 98,
   "metadata": {},
   "outputs": [
    {
     "name": "stdout",
     "output_type": "stream",
     "text": [
      "['elma', 25, True, 0, 3.1689, False, 'yeni']\n"
     ]
    }
   ],
   "source": [
    "liste2.append(\"yeni\")\n",
    "print(liste2)"
   ]
  },
  {
   "cell_type": "markdown",
   "metadata": {},
   "source": [
    "Peki ya birinci indisten sonrasına yeni nesne eklemek istersek?"
   ]
  },
  {
   "cell_type": "code",
   "execution_count": 99,
   "metadata": {},
   "outputs": [
    {
     "name": "stdout",
     "output_type": "stream",
     "text": [
      "['elma', 'yeni2', 25, True, 0, 3.1689, False, 'yeni']\n"
     ]
    }
   ],
   "source": [
    "liste2.insert(1, \"yeni2\")\n",
    "print(liste2)"
   ]
  },
  {
   "cell_type": "markdown",
   "metadata": {},
   "source": [
    "Yeni eklediğimiz nesneyi silelim."
   ]
  },
  {
   "cell_type": "code",
   "execution_count": 100,
   "metadata": {},
   "outputs": [
    {
     "name": "stdout",
     "output_type": "stream",
     "text": [
      "['elma', 25, True, 0, 3.1689, False, 'yeni']\n"
     ]
    }
   ],
   "source": [
    "liste2.remove(\"yeni2\")\n",
    "print(liste2)"
   ]
  },
  {
   "cell_type": "markdown",
   "metadata": {},
   "source": [
    "Listenin sonuncu elemanı olarak eklediğimiz \"yeni\" değişkenini silelim."
   ]
  },
  {
   "cell_type": "code",
   "execution_count": 101,
   "metadata": {},
   "outputs": [
    {
     "name": "stdout",
     "output_type": "stream",
     "text": [
      "['elma', 25, True, 0, 3.1689, False]\n"
     ]
    }
   ],
   "source": [
    "liste2.pop() # Stack yaklaşımındaki pop() fonksiyonu. Son giren ilk çıkar (LIFO - Last in First Out). \n",
    "print(liste2) "
   ]
  },
  {
   "cell_type": "code",
   "execution_count": 102,
   "metadata": {},
   "outputs": [
    {
     "name": "stdout",
     "output_type": "stream",
     "text": [
      "['elma', 25, 0, 3.1689, False]\n"
     ]
    }
   ],
   "source": [
    "liste2.pop(2) # 3. elemanı uçurur. (2. indis, 3. elemana tekabül eder.)\n",
    "print(liste2)"
   ]
  },
  {
   "cell_type": "markdown",
   "metadata": {},
   "source": [
    "Silmenin diğer bir yöntemi de \"del\"."
   ]
  },
  {
   "cell_type": "code",
   "execution_count": 103,
   "metadata": {},
   "outputs": [
    {
     "name": "stdout",
     "output_type": "stream",
     "text": [
      "[25, 0, 3.1689, False]\n"
     ]
    }
   ],
   "source": [
    "del liste2[0]\n",
    "print(liste2)"
   ]
  },
  {
   "cell_type": "code",
   "execution_count": 107,
   "metadata": {},
   "outputs": [
    {
     "name": "stdout",
     "output_type": "stream",
     "text": [
      "AD\t Ad\t a\t ad\t ad2\t ad_5\t b\t c\t d\t \n",
      "e\t liste2\t m\t metin\t on_x\t v\t x\t y\t z\t \n",
      "\n"
     ]
    }
   ],
   "source": [
    "who"
   ]
  },
  {
   "cell_type": "code",
   "execution_count": 108,
   "metadata": {},
   "outputs": [
    {
     "ename": "NameError",
     "evalue": "name 'liste' is not defined",
     "output_type": "error",
     "traceback": [
      "\u001b[1;31m---------------------------------------------------------------------------\u001b[0m",
      "\u001b[1;31mNameError\u001b[0m                                 Traceback (most recent call last)",
      "\u001b[1;32m<ipython-input-108-ac3da122f06f>\u001b[0m in \u001b[0;36m<module>\u001b[1;34m\u001b[0m\n\u001b[1;32m----> 1\u001b[1;33m \u001b[1;32mdel\u001b[0m \u001b[0mliste\u001b[0m\u001b[1;33m\u001b[0m\u001b[1;33m\u001b[0m\u001b[0m\n\u001b[0m",
      "\u001b[1;31mNameError\u001b[0m: name 'liste' is not defined"
     ]
    }
   ],
   "source": [
    "del liste"
   ]
  },
  {
   "cell_type": "markdown",
   "metadata": {},
   "source": [
    "Liste değişkenini yok etmeden tüm elemanlarını temizlemek istersek \"clear\" kullanabiliriz."
   ]
  },
  {
   "cell_type": "code",
   "execution_count": 109,
   "metadata": {},
   "outputs": [
    {
     "name": "stdout",
     "output_type": "stream",
     "text": [
      "[]\n"
     ]
    }
   ],
   "source": [
    "liste2.clear()\n",
    "print(liste2)"
   ]
  },
  {
   "cell_type": "code",
   "execution_count": 110,
   "metadata": {
    "scrolled": true
   },
   "outputs": [
    {
     "data": {
      "text/plain": [
       "0"
      ]
     },
     "execution_count": 110,
     "metadata": {},
     "output_type": "execute_result"
    }
   ],
   "source": [
    "len(liste2)  # Boş bir liste olduğu görülür."
   ]
  },
  {
   "cell_type": "markdown",
   "metadata": {},
   "source": [
    "Sadece sayılardan oluşan yeni bir liste oluşturalım ve kopyalama işlemleri yapalım."
   ]
  },
  {
   "cell_type": "code",
   "execution_count": 111,
   "metadata": {
    "scrolled": true
   },
   "outputs": [
    {
     "name": "stdout",
     "output_type": "stream",
     "text": [
      "[10, 56, 8, 91, 25, 78, 63]\n"
     ]
    }
   ],
   "source": [
    "liste = [10,56,8,91,25,78,63]\n",
    "\n",
    "print(liste)"
   ]
  },
  {
   "cell_type": "markdown",
   "metadata": {},
   "source": [
    "liste değişkeninin aynısını kopya isimli yeni bir değişkene atayalım."
   ]
  },
  {
   "cell_type": "code",
   "execution_count": 112,
   "metadata": {},
   "outputs": [],
   "source": [
    "kopya = liste"
   ]
  },
  {
   "cell_type": "code",
   "execution_count": 113,
   "metadata": {
    "scrolled": true
   },
   "outputs": [
    {
     "data": {
      "text/plain": [
       "[10, 56, 8, 91, 25, 78, 63]"
      ]
     },
     "execution_count": 113,
     "metadata": {},
     "output_type": "execute_result"
    }
   ],
   "source": [
    "liste"
   ]
  },
  {
   "cell_type": "code",
   "execution_count": 114,
   "metadata": {
    "scrolled": true
   },
   "outputs": [
    {
     "data": {
      "text/plain": [
       "[10, 56, 8, 91, 25, 78, 63]"
      ]
     },
     "execution_count": 114,
     "metadata": {},
     "output_type": "execute_result"
    }
   ],
   "source": [
    "kopya"
   ]
  },
  {
   "cell_type": "code",
   "execution_count": 115,
   "metadata": {},
   "outputs": [
    {
     "data": {
      "text/plain": [
       "True"
      ]
     },
     "execution_count": 115,
     "metadata": {},
     "output_type": "execute_result"
    }
   ],
   "source": [
    "liste is kopya"
   ]
  },
  {
   "cell_type": "markdown",
   "metadata": {},
   "source": [
    "Listeyi kopyaladığımızı düşünüyor olabiliriz."
   ]
  },
  {
   "cell_type": "code",
   "execution_count": 116,
   "metadata": {},
   "outputs": [
    {
     "name": "stdout",
     "output_type": "stream",
     "text": [
      "[56, 8, 91, 25, 78, 63]\n",
      "[56, 8, 91, 25, 78, 63]\n"
     ]
    }
   ],
   "source": [
    "del kopya[0]  # kopya listenin ilk elemanını uçuralım.\n",
    "\n",
    "print(kopya)  # ve yazdıralım.\n",
    "print(liste)  # listeyi de yazdıralım."
   ]
  },
  {
   "cell_type": "markdown",
   "metadata": {},
   "source": [
    "Görüldüğü üzere sadece kopya değişkeninin ilk elemanını silmemişiz, listenin de ilk elemanı silmiş olduk. Demek ki bu gerçek bir kopyalama işlemi değildi."
   ]
  },
  {
   "cell_type": "code",
   "execution_count": 117,
   "metadata": {},
   "outputs": [
    {
     "name": "stdout",
     "output_type": "stream",
     "text": [
      "[10, 56, 8, 91, 25, 78, 63]\n",
      "[10, 56, 8, 91, 25, 78, 63]\n"
     ]
    }
   ],
   "source": [
    "liste = [10,56,8,91,25,78,63]\n",
    "kopya = liste.copy()\n",
    "\n",
    "print(liste)\n",
    "print(kopya)"
   ]
  },
  {
   "cell_type": "code",
   "execution_count": 118,
   "metadata": {
    "scrolled": true
   },
   "outputs": [
    {
     "name": "stdout",
     "output_type": "stream",
     "text": [
      "[56, 8, 91, 25, 78, 63]\n",
      "[10, 56, 8, 91, 25, 78, 63]\n"
     ]
    }
   ],
   "source": [
    "del kopya[0]\n",
    "\n",
    "print(kopya)\n",
    "print(liste)"
   ]
  },
  {
   "cell_type": "code",
   "execution_count": 87,
   "metadata": {},
   "outputs": [
    {
     "data": {
      "text/plain": [
       "[10, 56, 8, 91, 25, 78, 63]"
      ]
     },
     "execution_count": 87,
     "metadata": {},
     "output_type": "execute_result"
    }
   ],
   "source": [
    "liste[::]"
   ]
  },
  {
   "cell_type": "code",
   "execution_count": 88,
   "metadata": {},
   "outputs": [],
   "source": [
    "kopya = liste[::]"
   ]
  },
  {
   "cell_type": "code",
   "execution_count": 90,
   "metadata": {},
   "outputs": [],
   "source": [
    "del kopya[0]"
   ]
  },
  {
   "cell_type": "code",
   "execution_count": 91,
   "metadata": {},
   "outputs": [
    {
     "data": {
      "text/plain": [
       "[56, 8, 91, 25, 78, 63]"
      ]
     },
     "execution_count": 91,
     "metadata": {},
     "output_type": "execute_result"
    }
   ],
   "source": [
    "kopya"
   ]
  },
  {
   "cell_type": "code",
   "execution_count": 92,
   "metadata": {},
   "outputs": [
    {
     "data": {
      "text/plain": [
       "[10, 56, 8, 91, 25, 78, 63]"
      ]
     },
     "execution_count": 92,
     "metadata": {},
     "output_type": "execute_result"
    }
   ],
   "source": [
    "liste"
   ]
  },
  {
   "cell_type": "markdown",
   "metadata": {},
   "source": [
    "Kopyanın ilk elemanını sildik ve tam da istediğimiz gibi liste bundan etkilenmedi. "
   ]
  },
  {
   "cell_type": "markdown",
   "metadata": {},
   "source": [
    "İki listenin aynı adresi gösterip göstermediğini nereden anlarız?"
   ]
  },
  {
   "cell_type": "code",
   "execution_count": 94,
   "metadata": {
    "scrolled": true
   },
   "outputs": [
    {
     "data": {
      "text/plain": [
       "False"
      ]
     },
     "execution_count": 94,
     "metadata": {},
     "output_type": "execute_result"
    }
   ],
   "source": [
    "kopya is liste  # False dönerse aynı adresi göstermiyor,\n",
    "\n",
    "# True dönerse aynı adresi gösteriyor."
   ]
  },
  {
   "cell_type": "markdown",
   "metadata": {},
   "source": [
    "İki liste oluşturalım. "
   ]
  },
  {
   "cell_type": "code",
   "execution_count": 99,
   "metadata": {},
   "outputs": [],
   "source": [
    "list1 = [\"a\", \"b\", \"c\", \"d\", \"e\"]\n",
    "list2 = [9 , 4 , 7 , 6 , 5, 3]"
   ]
  },
  {
   "cell_type": "markdown",
   "metadata": {},
   "source": [
    "Birleştirerek yeni bir değişkene atalım."
   ]
  },
  {
   "cell_type": "code",
   "execution_count": 100,
   "metadata": {
    "scrolled": true
   },
   "outputs": [
    {
     "name": "stdout",
     "output_type": "stream",
     "text": [
      "['a', 'b', 'c', 'd', 'e', 9, 4, 7, 6, 5, 3]\n"
     ]
    }
   ],
   "source": [
    "list3 = list1 + list2\n",
    "\n",
    "print(list3)"
   ]
  },
  {
   "cell_type": "code",
   "execution_count": 112,
   "metadata": {},
   "outputs": [
    {
     "data": {
      "text/plain": [
       "['a', 'b', 'c', 'd', 'e', 9, 4, 7, 6, 5, 3]"
      ]
     },
     "execution_count": 112,
     "metadata": {},
     "output_type": "execute_result"
    }
   ],
   "source": [
    "list3"
   ]
  },
  {
   "cell_type": "markdown",
   "metadata": {},
   "source": [
    "Harflerden oluşan list1'i ters çevirelim."
   ]
  },
  {
   "cell_type": "code",
   "execution_count": 104,
   "metadata": {},
   "outputs": [],
   "source": [
    "list1.reverse() # dikkat! iki kez çalıştırırsanız tekrar eski haline gelir."
   ]
  },
  {
   "cell_type": "markdown",
   "metadata": {},
   "source": [
    "Sayılardan oluşan list2'i sıralayalım."
   ]
  },
  {
   "cell_type": "code",
   "execution_count": 105,
   "metadata": {},
   "outputs": [
    {
     "data": {
      "text/plain": [
       "[9, 4, 7, 6, 5, 3]"
      ]
     },
     "execution_count": 105,
     "metadata": {},
     "output_type": "execute_result"
    }
   ],
   "source": [
    "list2  # sırasız şekilde sayılar mevcut."
   ]
  },
  {
   "cell_type": "code",
   "execution_count": 108,
   "metadata": {},
   "outputs": [
    {
     "name": "stdout",
     "output_type": "stream",
     "text": [
      "[3, 4, 5, 6, 7, 9]\n"
     ]
    }
   ],
   "source": [
    "list2.sort()  # küçükten büyüğe sıraladı, ya tersini istesek?\n",
    "\n",
    "print(list2)"
   ]
  },
  {
   "cell_type": "markdown",
   "metadata": {},
   "source": [
    "Sayılardan oluşan list2 listesindeki 6 sayısının hangi indiste olduğunu sorgulayalım."
   ]
  },
  {
   "cell_type": "code",
   "execution_count": 109,
   "metadata": {},
   "outputs": [
    {
     "data": {
      "text/plain": [
       "3"
      ]
     },
     "execution_count": 109,
     "metadata": {},
     "output_type": "execute_result"
    }
   ],
   "source": [
    "list2.index(6)\n",
    "\n",
    "# 6 değeri kaçıncı indistedir sorusuna 3 cevabını verdi."
   ]
  },
  {
   "cell_type": "markdown",
   "metadata": {},
   "source": [
    "Teyit edelim."
   ]
  },
  {
   "cell_type": "code",
   "execution_count": 110,
   "metadata": {},
   "outputs": [
    {
     "data": {
      "text/plain": [
       "6"
      ]
     },
     "execution_count": 110,
     "metadata": {},
     "output_type": "execute_result"
    }
   ],
   "source": [
    "list2[3]"
   ]
  },
  {
   "cell_type": "markdown",
   "metadata": {},
   "source": [
    "### Demet Değişkeni  <a id='9'></a>"
   ]
  },
  {
   "cell_type": "markdown",
   "metadata": {},
   "source": [
    "Literatürdeki adı ile \"tuple\". Demet değişkenlerin listeden tek farkı bir kere tanımlandıktan sonra bir daha üzerinde değişiklik yapılamaması. Ayrıca köşeli parantez ile değil normal parantez ile tanımlanırlar."
   ]
  },
  {
   "cell_type": "code",
   "execution_count": 113,
   "metadata": {},
   "outputs": [
    {
     "name": "stdout",
     "output_type": "stream",
     "text": [
      "('elma', 'armut', 'kiraz')\n"
     ]
    }
   ],
   "source": [
    "demet = (\"elma\", \"armut\", \"kiraz\")\n",
    "\n",
    "print(demet)"
   ]
  },
  {
   "cell_type": "code",
   "execution_count": 114,
   "metadata": {},
   "outputs": [
    {
     "name": "stdout",
     "output_type": "stream",
     "text": [
      "<class 'tuple'>\n"
     ]
    }
   ],
   "source": [
    "print(type(demet))"
   ]
  },
  {
   "cell_type": "markdown",
   "metadata": {},
   "source": [
    "Demetin kaç elemandan oluştuğunu görelim."
   ]
  },
  {
   "cell_type": "code",
   "execution_count": 115,
   "metadata": {},
   "outputs": [
    {
     "data": {
      "text/plain": [
       "3"
      ]
     },
     "execution_count": 115,
     "metadata": {},
     "output_type": "execute_result"
    }
   ],
   "source": [
    "len(demet)"
   ]
  },
  {
   "cell_type": "markdown",
   "metadata": {},
   "source": [
    "İndeks gösterimleri ve remove, del, insert, index, len gibi fonksyionları liste konusunda uzun uzun işlediğimiz için demetleri burada sonlandırabiliriz.\n",
    "\n",
    "Fonksiyonların neredeyse tamamı demetler için de geçerlidir."
   ]
  },
  {
   "cell_type": "markdown",
   "metadata": {},
   "source": [
    "### String Değişkeni <a id='10'></a>"
   ]
  },
  {
   "cell_type": "markdown",
   "metadata": {},
   "source": [
    "Eğer bir metni satır satır tanımlamak istersek üç tırnak kullanırız."
   ]
  },
  {
   "cell_type": "code",
   "execution_count": 116,
   "metadata": {},
   "outputs": [
    {
     "name": "stdout",
     "output_type": "stream",
     "text": [
      "\n",
      "\n",
      "Veri bilimi eğitimi,\n",
      "İzmir,\n",
      "Türkiye.\n",
      "\n",
      "\n"
     ]
    }
   ],
   "source": [
    "metin = \"\"\"\n",
    "\n",
    "Veri bilimi eğitimi,\n",
    "İzmir,\n",
    "Türkiye.\n",
    "\n",
    "\"\"\"\n",
    "\n",
    "print(metin)"
   ]
  },
  {
   "cell_type": "markdown",
   "metadata": {},
   "source": [
    "Bir cumle yarazarak string oluşturalım ve kaç karakterden oluştuğuna bakalım."
   ]
  },
  {
   "cell_type": "code",
   "execution_count": 117,
   "metadata": {},
   "outputs": [],
   "source": [
    "cumle = \"Veri Bilimi Eğitimi.\""
   ]
  },
  {
   "cell_type": "code",
   "execution_count": 118,
   "metadata": {},
   "outputs": [
    {
     "data": {
      "text/plain": [
       "20"
      ]
     },
     "execution_count": 118,
     "metadata": {},
     "output_type": "execute_result"
    }
   ],
   "source": [
    "len(cumle)\n",
    "# tüm boşlukları ve noktalama işaretlerini de kapsar."
   ]
  },
  {
   "cell_type": "markdown",
   "metadata": {},
   "source": [
    "Cümlenin ilk karakterini yazdıralım."
   ]
  },
  {
   "cell_type": "code",
   "execution_count": 119,
   "metadata": {},
   "outputs": [
    {
     "data": {
      "text/plain": [
       "'V'"
      ]
     },
     "execution_count": 119,
     "metadata": {},
     "output_type": "execute_result"
    }
   ],
   "source": [
    "cumle[0]"
   ]
  },
  {
   "cell_type": "code",
   "execution_count": 122,
   "metadata": {},
   "outputs": [
    {
     "data": {
      "text/plain": [
       "'Veri '"
      ]
     },
     "execution_count": 122,
     "metadata": {},
     "output_type": "execute_result"
    }
   ],
   "source": [
    "cumle[0:5] # cümlenin ilk 5 karakterini verir."
   ]
  },
  {
   "cell_type": "markdown",
   "metadata": {},
   "source": [
    "İlk 5 karakterini ve son 5 karakterini alarak yeni kelime yaratalım. \n",
    "\n",
    "String değişkenler aynı zamanda array dizileridir ve listede yapmış olduğumuz dilimleme işlemleri burada da geçerlidir."
   ]
  },
  {
   "cell_type": "code",
   "execution_count": 123,
   "metadata": {},
   "outputs": [
    {
     "name": "stdout",
     "output_type": "stream",
     "text": [
      "Veri timi.\n"
     ]
    }
   ],
   "source": [
    "cumle2 = cumle[0:5] + cumle[-5: ]  # ilk 5  + son 5 \n",
    "print(cumle2) "
   ]
  },
  {
   "cell_type": "markdown",
   "metadata": {},
   "source": [
    "Büyük küçük harf değişiklikleri yapalım."
   ]
  },
  {
   "cell_type": "code",
   "execution_count": 124,
   "metadata": {},
   "outputs": [
    {
     "data": {
      "text/plain": [
       "'VERI BILIMI EĞITIMI.'"
      ]
     },
     "execution_count": 124,
     "metadata": {},
     "output_type": "execute_result"
    }
   ],
   "source": [
    "cumle.upper()"
   ]
  },
  {
   "cell_type": "code",
   "execution_count": 125,
   "metadata": {},
   "outputs": [
    {
     "data": {
      "text/plain": [
       "'veri bilimi eğitimi.'"
      ]
     },
     "execution_count": 125,
     "metadata": {},
     "output_type": "execute_result"
    }
   ],
   "source": [
    "cumle.lower()"
   ]
  },
  {
   "cell_type": "code",
   "execution_count": 127,
   "metadata": {},
   "outputs": [
    {
     "data": {
      "text/plain": [
       "'Veri bilimi eğitimi.'"
      ]
     },
     "execution_count": 127,
     "metadata": {},
     "output_type": "execute_result"
    }
   ],
   "source": [
    "cumle.capitalize()"
   ]
  },
  {
   "cell_type": "markdown",
   "metadata": {},
   "source": [
    "İstediğimiz harfin yerine başka bir harf getirelim."
   ]
  },
  {
   "cell_type": "code",
   "execution_count": 128,
   "metadata": {},
   "outputs": [
    {
     "data": {
      "text/plain": [
       "'Verx Bxlxmx Eğxtxmx.'"
      ]
     },
     "execution_count": 128,
     "metadata": {},
     "output_type": "execute_result"
    }
   ],
   "source": [
    "cumle.replace(\"i\", \"x\")"
   ]
  },
  {
   "cell_type": "code",
   "execution_count": 130,
   "metadata": {},
   "outputs": [
    {
     "data": {
      "text/plain": [
       "'Veri Bilimi Eğitimi.'"
      ]
     },
     "execution_count": 130,
     "metadata": {},
     "output_type": "execute_result"
    }
   ],
   "source": [
    "cumle"
   ]
  },
  {
   "cell_type": "markdown",
   "metadata": {},
   "source": [
    "Cümledeki kelimeleri tespit etsek?"
   ]
  },
  {
   "cell_type": "code",
   "execution_count": 132,
   "metadata": {},
   "outputs": [
    {
     "data": {
      "text/plain": [
       "['Veri', 'Bilimi', 'Eğitimi.']"
      ]
     },
     "execution_count": 132,
     "metadata": {},
     "output_type": "execute_result"
    }
   ],
   "source": [
    "cumle2 = cumle.split(\" \") \n",
    "# boşlukla ayrıldığını bildirdik, sağlıklı değil diğer noktalama işaretleri problem çıkarabilir\n",
    "cumle2"
   ]
  },
  {
   "cell_type": "code",
   "execution_count": 133,
   "metadata": {},
   "outputs": [
    {
     "data": {
      "text/plain": [
       "'Veri'"
      ]
     },
     "execution_count": 133,
     "metadata": {},
     "output_type": "execute_result"
    }
   ],
   "source": [
    "cumle2[0]"
   ]
  },
  {
   "cell_type": "markdown",
   "metadata": {},
   "source": [
    "Cümlede kelime geçip geçmediğini tespit edelim."
   ]
  },
  {
   "cell_type": "code",
   "execution_count": 136,
   "metadata": {},
   "outputs": [
    {
     "data": {
      "text/plain": [
       "True"
      ]
     },
     "execution_count": 136,
     "metadata": {},
     "output_type": "execute_result"
    }
   ],
   "source": [
    "\"Veri\" in cumle"
   ]
  },
  {
   "cell_type": "code",
   "execution_count": 137,
   "metadata": {},
   "outputs": [
    {
     "data": {
      "text/plain": [
       "False"
      ]
     },
     "execution_count": 137,
     "metadata": {},
     "output_type": "execute_result"
    }
   ],
   "source": [
    "\"data\" in cumle.lower()"
   ]
  },
  {
   "cell_type": "markdown",
   "metadata": {},
   "source": [
    "Peki bir cümle içinde tırnakla başka kelime belirtmek istersek? Kaçış karakterlerini kullanırız."
   ]
  },
  {
   "cell_type": "code",
   "execution_count": 138,
   "metadata": {},
   "outputs": [],
   "source": [
    "txt = \"Bu cümledeki özel kelime \\\"veri\\\" dir.\" "
   ]
  },
  {
   "cell_type": "code",
   "execution_count": 139,
   "metadata": {
    "scrolled": true
   },
   "outputs": [
    {
     "data": {
      "text/plain": [
       "'Bu cümledeki özel kelime \"veri\" dir.'"
      ]
     },
     "execution_count": 139,
     "metadata": {},
     "output_type": "execute_result"
    }
   ],
   "source": [
    "txt"
   ]
  },
  {
   "cell_type": "markdown",
   "metadata": {},
   "source": [
    "#### Diğer özel karakterler"
   ]
  },
  {
   "cell_type": "code",
   "execution_count": 140,
   "metadata": {},
   "outputs": [
    {
     "name": "stdout",
     "output_type": "stream",
     "text": [
      "Backspace karakterini\b kullandık.\n"
     ]
    }
   ],
   "source": [
    "print(\"Backspace karakterini\\b kullandık.\") \n",
    "\n",
    "# \\b yazan yerden bir önceki karakteri sildi."
   ]
  },
  {
   "cell_type": "code",
   "execution_count": 141,
   "metadata": {},
   "outputs": [
    {
     "name": "stdout",
     "output_type": "stream",
     "text": [
      "Tab karakterini \t kullandık.\n"
     ]
    }
   ],
   "source": [
    "print(\"Tab karakterini \\t kullandık.\")\n",
    "\n",
    "# paragraf boşluğu bıraktı."
   ]
  },
  {
   "cell_type": "code",
   "execution_count": 144,
   "metadata": {},
   "outputs": [
    {
     "name": "stdout",
     "output_type": "stream",
     "text": [
      "New line karakterini \n",
      " kullandık.\n"
     ]
    }
   ],
   "source": [
    "print(\"New line karakterini \\n kullandık.\")\n",
    "\n",
    "# yazıldığı yerden alt satıra geçti."
   ]
  },
  {
   "cell_type": "markdown",
   "metadata": {},
   "source": [
    "#### Diğer String Fonksiyonları"
   ]
  },
  {
   "cell_type": "code",
   "execution_count": 146,
   "metadata": {},
   "outputs": [
    {
     "data": {
      "text/plain": [
       "'Veri Bilimi Eğitimi.'"
      ]
     },
     "execution_count": 146,
     "metadata": {},
     "output_type": "execute_result"
    }
   ],
   "source": [
    "cumle"
   ]
  },
  {
   "cell_type": "code",
   "execution_count": 148,
   "metadata": {},
   "outputs": [
    {
     "data": {
      "text/plain": [
       "True"
      ]
     },
     "execution_count": 148,
     "metadata": {},
     "output_type": "execute_result"
    }
   ],
   "source": [
    "cumle.startswith(\"V\") # Nokta ile bittiği için True döndü."
   ]
  },
  {
   "cell_type": "code",
   "execution_count": 149,
   "metadata": {},
   "outputs": [
    {
     "data": {
      "text/plain": [
       "3"
      ]
     },
     "execution_count": 149,
     "metadata": {},
     "output_type": "execute_result"
    }
   ],
   "source": [
    "cumle.find(\"i\") # i değerinin cümlede ilk geçtiği indisi veriyor."
   ]
  },
  {
   "cell_type": "markdown",
   "metadata": {},
   "source": [
    "Daha yüzlerce string fonksiyonu var ancak bu kadarı temel için oldukça yeterli. İhtiyaç duyulduğunda dokümantasyonlardan rahatlıkla bulunabilir ve kullanılabilir fonksiyonlar."
   ]
  },
  {
   "cell_type": "markdown",
   "metadata": {},
   "source": [
    "### Boolean Değişken Tipi<a id='11'></a>"
   ]
  },
  {
   "cell_type": "markdown",
   "metadata": {},
   "source": [
    "Bu değişken tipi sadece True veya False olcak şekilde değer tutar. Aynı zamanda koşullu ifadelerde sık sık karşımıza çıkar. Çoğu fonksiyonun geri dönüş değeri boolean tipindedir."
   ]
  },
  {
   "cell_type": "code",
   "execution_count": 150,
   "metadata": {},
   "outputs": [],
   "source": [
    "degisken1 = True\n",
    "degisken2 = False"
   ]
  },
  {
   "cell_type": "code",
   "execution_count": 151,
   "metadata": {},
   "outputs": [
    {
     "data": {
      "text/plain": [
       "False"
      ]
     },
     "execution_count": 151,
     "metadata": {},
     "output_type": "execute_result"
    }
   ],
   "source": [
    "degisken1 == degisken2 # eşit değildir birbirlerine."
   ]
  },
  {
   "cell_type": "code",
   "execution_count": 152,
   "metadata": {},
   "outputs": [
    {
     "data": {
      "text/plain": [
       "True"
      ]
     },
     "execution_count": 152,
     "metadata": {},
     "output_type": "execute_result"
    }
   ],
   "source": [
    "degisken1 != degisken2 # eşit değiller mi? "
   ]
  },
  {
   "cell_type": "code",
   "execution_count": 153,
   "metadata": {},
   "outputs": [
    {
     "name": "stdout",
     "output_type": "stream",
     "text": [
      "True\n"
     ]
    }
   ],
   "source": [
    "print(10 > 5) # 10 büyük müdür 5 den ? Evet."
   ]
  },
  {
   "cell_type": "code",
   "execution_count": 154,
   "metadata": {},
   "outputs": [
    {
     "name": "stdout",
     "output_type": "stream",
     "text": [
      "False\n"
     ]
    }
   ],
   "source": [
    "print(2 == 3) # 2 eşit midir 3'e ? Hayır."
   ]
  },
  {
   "cell_type": "markdown",
   "metadata": {},
   "source": [
    "### Sözlük Değişken Tipi<a id='12'></a>"
   ]
  },
  {
   "cell_type": "markdown",
   "metadata": {},
   "source": [
    "Sözlük, sırasız, değiştirilebilir ve indekslenebilir bir koleksiyondur. Python'da sözlükler süslü parantez ile yazılır, ayrıca anahtarları ve değerleri vardır."
   ]
  },
  {
   "cell_type": "code",
   "execution_count": 28,
   "metadata": {},
   "outputs": [
    {
     "name": "stdout",
     "output_type": "stream",
     "text": [
      "{'marka': 'Ford', 'model': 'Mustang', 'uretim_yili': 1964}\n"
     ]
    }
   ],
   "source": [
    "sozluk = {\n",
    "    \n",
    "  \"marka\": \"Ford\",\n",
    "  \"model\": \"Mustang\",\n",
    "  \"uretim_yili\": 1964\n",
    "\n",
    "}\n",
    "\n",
    "print(sozluk)"
   ]
  },
  {
   "cell_type": "markdown",
   "metadata": {},
   "source": [
    "Sözlüğün belirli bir değerini gözlemlemek için iki yol var."
   ]
  },
  {
   "cell_type": "code",
   "execution_count": 29,
   "metadata": {
    "scrolled": true
   },
   "outputs": [
    {
     "data": {
      "text/plain": [
       "'Ford'"
      ]
     },
     "execution_count": 29,
     "metadata": {},
     "output_type": "execute_result"
    }
   ],
   "source": [
    "sozluk[\"marka\"]"
   ]
  },
  {
   "cell_type": "code",
   "execution_count": 30,
   "metadata": {},
   "outputs": [
    {
     "data": {
      "text/plain": [
       "'Mustang'"
      ]
     },
     "execution_count": 30,
     "metadata": {},
     "output_type": "execute_result"
    }
   ],
   "source": [
    "sozluk.get(\"model\")"
   ]
  },
  {
   "cell_type": "markdown",
   "metadata": {},
   "source": [
    "Sözlüğün belirli bir değerini değiştirelim."
   ]
  },
  {
   "cell_type": "code",
   "execution_count": 31,
   "metadata": {},
   "outputs": [
    {
     "name": "stdout",
     "output_type": "stream",
     "text": [
      "{'marka': 'Ford', 'model': 'Mustang', 'uretim_yili': 2020}\n"
     ]
    }
   ],
   "source": [
    "sozluk[\"uretim_yili\"] = 2020\n",
    "print(sozluk)"
   ]
  },
  {
   "cell_type": "markdown",
   "metadata": {},
   "source": [
    "Sözlüğün içindeki değişkenleri yazdıralım."
   ]
  },
  {
   "cell_type": "code",
   "execution_count": 32,
   "metadata": {},
   "outputs": [
    {
     "name": "stdout",
     "output_type": "stream",
     "text": [
      "marka\n",
      "model\n",
      "uretim_yili\n"
     ]
    }
   ],
   "source": [
    "for i in sozluk:\n",
    "    print(i)"
   ]
  },
  {
   "cell_type": "markdown",
   "metadata": {},
   "source": [
    "Sözlüğün içindeki değerleri yazdıralım."
   ]
  },
  {
   "cell_type": "code",
   "execution_count": 33,
   "metadata": {},
   "outputs": [
    {
     "name": "stdout",
     "output_type": "stream",
     "text": [
      "Ford\n",
      "Mustang\n",
      "2020\n"
     ]
    }
   ],
   "source": [
    "for i in sozluk:\n",
    "    print(sozluk[i])"
   ]
  },
  {
   "cell_type": "markdown",
   "metadata": {},
   "source": [
    "Değerleri yazdırmanın başka bir yolu daha var."
   ]
  },
  {
   "cell_type": "code",
   "execution_count": 34,
   "metadata": {},
   "outputs": [
    {
     "name": "stdout",
     "output_type": "stream",
     "text": [
      "Ford\n",
      "Mustang\n",
      "2020\n"
     ]
    }
   ],
   "source": [
    "for i in sozluk.values():\n",
    "    print(i)"
   ]
  },
  {
   "cell_type": "markdown",
   "metadata": {},
   "source": [
    "Sözlüğün içindeki değişkenleri değerleriyle birlikte yazdıralım."
   ]
  },
  {
   "cell_type": "code",
   "execution_count": 35,
   "metadata": {},
   "outputs": [
    {
     "name": "stdout",
     "output_type": "stream",
     "text": [
      "marka -> Ford\n",
      "model -> Mustang\n",
      "uretim_yili -> 2020\n"
     ]
    }
   ],
   "source": [
    "for x, y in sozluk.items():\n",
    "    print(x, \"->\", y) "
   ]
  },
  {
   "cell_type": "markdown",
   "metadata": {},
   "source": [
    "Sözlüğün boyutunu görüntüleyelim."
   ]
  },
  {
   "cell_type": "code",
   "execution_count": 36,
   "metadata": {},
   "outputs": [
    {
     "data": {
      "text/plain": [
       "3"
      ]
     },
     "execution_count": 36,
     "metadata": {},
     "output_type": "execute_result"
    }
   ],
   "source": [
    "len(sozluk)"
   ]
  },
  {
   "cell_type": "markdown",
   "metadata": {},
   "source": [
    "Sözlüğe yeni değişken ve değer ekleyelim."
   ]
  },
  {
   "cell_type": "code",
   "execution_count": 37,
   "metadata": {},
   "outputs": [
    {
     "name": "stdout",
     "output_type": "stream",
     "text": [
      "{'marka': 'Ford', 'model': 'Mustang', 'uretim_yili': 2020, 'renk': 'bordo'}\n"
     ]
    }
   ],
   "source": [
    "sozluk[\"renk\"] = \"bordo\"\n",
    "print(sozluk)"
   ]
  },
  {
   "cell_type": "markdown",
   "metadata": {},
   "source": [
    "Sözlükteki bir değişkeni uçuralım."
   ]
  },
  {
   "cell_type": "code",
   "execution_count": 38,
   "metadata": {},
   "outputs": [
    {
     "name": "stdout",
     "output_type": "stream",
     "text": [
      "{'marka': 'Ford', 'uretim_yili': 2020, 'renk': 'bordo'}\n"
     ]
    }
   ],
   "source": [
    "sozluk.pop(\"model\")\n",
    "print(sozluk)"
   ]
  },
  {
   "cell_type": "markdown",
   "metadata": {},
   "source": [
    "Sözlüğün içindeki tüm değerleri ve değişkenleri temizleyelim."
   ]
  },
  {
   "cell_type": "code",
   "execution_count": 39,
   "metadata": {},
   "outputs": [
    {
     "name": "stdout",
     "output_type": "stream",
     "text": [
      "{}\n"
     ]
    }
   ],
   "source": [
    "sozluk.clear()\n",
    "print(sozluk)"
   ]
  },
  {
   "cell_type": "markdown",
   "metadata": {},
   "source": [
    "Sözlük değişkenini tamamen uçuralım."
   ]
  },
  {
   "cell_type": "code",
   "execution_count": 40,
   "metadata": {},
   "outputs": [],
   "source": [
    "del sozluk"
   ]
  },
  {
   "cell_type": "markdown",
   "metadata": {},
   "source": [
    "İç içe sözlük oluşturalım."
   ]
  },
  {
   "cell_type": "code",
   "execution_count": 41,
   "metadata": {},
   "outputs": [],
   "source": [
    "cocuklarim = {\n",
    "    \n",
    "  \"cocuk1\" : {\n",
    "    \"ad\" : \"Ali\",\n",
    "    \"yil\" : 2007\n",
    "  },\n",
    "  \"cocuk2\" : {\n",
    "    \"ad\" : \"Veli\",\n",
    "    \"yil\" : 2003\n",
    "  },\n",
    "  \"cocuk3\" : {\n",
    "    \"ad\" : \"Hüseyin\",\n",
    "    \"yil\" : 1999\n",
    "  }\n",
    "    \n",
    "} "
   ]
  },
  {
   "cell_type": "code",
   "execution_count": 42,
   "metadata": {},
   "outputs": [
    {
     "data": {
      "text/plain": [
       "{'ad': 'Ali', 'yil': 2007}"
      ]
     },
     "execution_count": 42,
     "metadata": {},
     "output_type": "execute_result"
    }
   ],
   "source": [
    "cocuklarim[\"cocuk1\"]"
   ]
  },
  {
   "cell_type": "code",
   "execution_count": 43,
   "metadata": {},
   "outputs": [
    {
     "data": {
      "text/plain": [
       "'Veli'"
      ]
     },
     "execution_count": 43,
     "metadata": {},
     "output_type": "execute_result"
    }
   ],
   "source": [
    "cocuklarim[\"cocuk2\"][\"ad\"]"
   ]
  },
  {
   "cell_type": "code",
   "execution_count": 44,
   "metadata": {},
   "outputs": [
    {
     "data": {
      "text/plain": [
       "'Hüse'"
      ]
     },
     "execution_count": 44,
     "metadata": {},
     "output_type": "execute_result"
    }
   ],
   "source": [
    "cocuklarim[\"cocuk3\"][\"ad\"][0:4]"
   ]
  },
  {
   "cell_type": "markdown",
   "metadata": {},
   "source": [
    "### Değişken Dönüşümleri <a id='13'></a>"
   ]
  },
  {
   "cell_type": "markdown",
   "metadata": {},
   "source": [
    "Integer tam sayı dönüşümlerine aşağıda yer verilmiştir."
   ]
  },
  {
   "cell_type": "code",
   "execution_count": 45,
   "metadata": {},
   "outputs": [],
   "source": [
    "x = int(1)    # x, int tipinde 1 olacak\n",
    "y = int(2.8)  # y, int tipinde 2 olacak (yuvarlanarak)\n",
    "z = int(\"3\")  # z, int tipinde 3 olacak\n",
    "# v = int(\"a\") çalıştırırsak hata verecek normal olarak."
   ]
  },
  {
   "cell_type": "code",
   "execution_count": 46,
   "metadata": {},
   "outputs": [
    {
     "name": "stdout",
     "output_type": "stream",
     "text": [
      "1 2 3\n"
     ]
    }
   ],
   "source": [
    "print(x,y,z)"
   ]
  },
  {
   "cell_type": "code",
   "execution_count": 47,
   "metadata": {
    "scrolled": true
   },
   "outputs": [
    {
     "name": "stdout",
     "output_type": "stream",
     "text": [
      "<class 'int'> , <class 'int'> , <class 'int'>\n"
     ]
    }
   ],
   "source": [
    "print(type(x), type(y), type(z), sep = \" , \")"
   ]
  },
  {
   "cell_type": "markdown",
   "metadata": {},
   "source": [
    "Float, küsüratlı sayı dönüşümlerine aşağıda yer verilmiştir."
   ]
  },
  {
   "cell_type": "code",
   "execution_count": 48,
   "metadata": {},
   "outputs": [],
   "source": [
    "x = float(1)     # x float tipinde 1 olacak\n",
    "y = float(2.8)   # y float tipinde 2.8 olacak\n",
    "z = float(\"3\")   # z float tipinde 3 olacak \n",
    "w = float(\"4.2\") # w float tipinde 4.2 olacak  "
   ]
  },
  {
   "cell_type": "code",
   "execution_count": 49,
   "metadata": {},
   "outputs": [
    {
     "name": "stdout",
     "output_type": "stream",
     "text": [
      "1.0 | 2.8 | 3.0 | 4.2\n"
     ]
    }
   ],
   "source": [
    "print(x,y,z,w, sep = \" | \")"
   ]
  },
  {
   "cell_type": "markdown",
   "metadata": {},
   "source": [
    "Str, karakter dizisi dönüşümlerine aşağıda yer verilmiştir."
   ]
  },
  {
   "cell_type": "code",
   "execution_count": 50,
   "metadata": {},
   "outputs": [],
   "source": [
    "x = str(\"s1\") # x str tipinde 's1' olacak.\n",
    "y = str(2)    # y str tipinde '2' olacak.\n",
    "z = str(3.0)  # z str tipinde '3.0' olacak."
   ]
  },
  {
   "cell_type": "code",
   "execution_count": 51,
   "metadata": {},
   "outputs": [
    {
     "name": "stdout",
     "output_type": "stream",
     "text": [
      "s1 2 3.0\n"
     ]
    }
   ],
   "source": [
    "print(x,y,z)"
   ]
  },
  {
   "cell_type": "code",
   "execution_count": 52,
   "metadata": {
    "scrolled": true
   },
   "outputs": [
    {
     "name": "stdout",
     "output_type": "stream",
     "text": [
      "<class 'str'> , <class 'str'> , <class 'str'>\n"
     ]
    }
   ],
   "source": [
    "print(type(x), type(y), type(z), sep = \" , \")"
   ]
  },
  {
   "cell_type": "markdown",
   "metadata": {},
   "source": [
    "Boolean değişken dönüşümü işlemlerine aşağıda yer verilmiştir."
   ]
  },
  {
   "cell_type": "code",
   "execution_count": 53,
   "metadata": {},
   "outputs": [],
   "source": [
    "x = bool(True)\n",
    "y = bool(1)\n",
    "z = bool(\"veri\")\n",
    "v = bool(5.87)"
   ]
  },
  {
   "cell_type": "code",
   "execution_count": 54,
   "metadata": {},
   "outputs": [
    {
     "name": "stdout",
     "output_type": "stream",
     "text": [
      "True True True True\n"
     ]
    }
   ],
   "source": [
    "print(x,y,z,v)"
   ]
  },
  {
   "cell_type": "code",
   "execution_count": 56,
   "metadata": {},
   "outputs": [],
   "source": [
    "x = bool(\"\")\n",
    "y = bool([])\n",
    "z = bool(False)\n",
    "v = bool(None)\n",
    "b = bool(0)"
   ]
  },
  {
   "cell_type": "code",
   "execution_count": 57,
   "metadata": {},
   "outputs": [
    {
     "name": "stdout",
     "output_type": "stream",
     "text": [
      "False False False False False\n"
     ]
    }
   ],
   "source": [
    "print(x,y,z,v,b)"
   ]
  },
  {
   "cell_type": "code",
   "execution_count": 58,
   "metadata": {},
   "outputs": [
    {
     "name": "stdout",
     "output_type": "stream",
     "text": [
      "<class 'bool'> , <class 'bool'> , <class 'bool'> , <class 'bool'>\n"
     ]
    }
   ],
   "source": [
    "print(type(x), type(y), type(z), type(v), sep = \" , \")"
   ]
  },
  {
   "cell_type": "markdown",
   "metadata": {},
   "source": [
    "# Operatörler <a id='14'></a>"
   ]
  },
  {
   "cell_type": "markdown",
   "metadata": {},
   "source": [
    "## Aritmetik Operatörler <a id='15'></a>"
   ]
  },
  {
   "cell_type": "markdown",
   "metadata": {},
   "source": [
    "### Toplama Operatörü"
   ]
  },
  {
   "cell_type": "code",
   "execution_count": 59,
   "metadata": {},
   "outputs": [
    {
     "name": "stdout",
     "output_type": "stream",
     "text": [
      "15\n"
     ]
    }
   ],
   "source": [
    "x = 5\n",
    "y = 10\n",
    "\n",
    "print(x + y)"
   ]
  },
  {
   "cell_type": "code",
   "execution_count": 60,
   "metadata": {},
   "outputs": [
    {
     "name": "stdout",
     "output_type": "stream",
     "text": [
      "Hey Naber\n"
     ]
    }
   ],
   "source": [
    "print(\"Hey \" + \"Naber\")"
   ]
  },
  {
   "cell_type": "code",
   "execution_count": 61,
   "metadata": {},
   "outputs": [
    {
     "name": "stdout",
     "output_type": "stream",
     "text": [
      "MuratSAHIN\n"
     ]
    }
   ],
   "source": [
    "isim = \"Murat\" + \"SAHIN\"\n",
    "print(isim)"
   ]
  },
  {
   "cell_type": "markdown",
   "metadata": {},
   "source": [
    "### Çıkarma Operatörü"
   ]
  },
  {
   "cell_type": "code",
   "execution_count": 62,
   "metadata": {},
   "outputs": [
    {
     "name": "stdout",
     "output_type": "stream",
     "text": [
      "16\n"
     ]
    }
   ],
   "source": [
    "x = 26\n",
    "y = 10\n",
    "\n",
    "print(x - y)"
   ]
  },
  {
   "cell_type": "markdown",
   "metadata": {},
   "source": [
    "### Çarpma Operatörü"
   ]
  },
  {
   "cell_type": "code",
   "execution_count": 63,
   "metadata": {},
   "outputs": [
    {
     "name": "stdout",
     "output_type": "stream",
     "text": [
      "140\n"
     ]
    }
   ],
   "source": [
    "x = 14\n",
    "y = 10\n",
    "\n",
    "print(x * y)"
   ]
  },
  {
   "cell_type": "markdown",
   "metadata": {},
   "source": [
    "### Bölme Operatörü"
   ]
  },
  {
   "cell_type": "code",
   "execution_count": 64,
   "metadata": {},
   "outputs": [
    {
     "name": "stdout",
     "output_type": "stream",
     "text": [
      "20.0\n"
     ]
    }
   ],
   "source": [
    "x = 140\n",
    "y = 7\n",
    "\n",
    "print(x / y)"
   ]
  },
  {
   "cell_type": "markdown",
   "metadata": {},
   "source": [
    "### Mod Operatörü"
   ]
  },
  {
   "cell_type": "markdown",
   "metadata": {},
   "source": [
    "İlk sayı ikincisine bölündüğünde kalan değerini döndürür."
   ]
  },
  {
   "cell_type": "code",
   "execution_count": 65,
   "metadata": {},
   "outputs": [
    {
     "name": "stdout",
     "output_type": "stream",
     "text": [
      "2\n"
     ]
    }
   ],
   "source": [
    "x = 7\n",
    "y = 5\n",
    "\n",
    "print(x % y)"
   ]
  },
  {
   "cell_type": "markdown",
   "metadata": {},
   "source": [
    "### Eksponansiyel Operatörü"
   ]
  },
  {
   "cell_type": "code",
   "execution_count": 66,
   "metadata": {},
   "outputs": [
    {
     "name": "stdout",
     "output_type": "stream",
     "text": [
      "9\n"
     ]
    }
   ],
   "source": [
    "print(3**2) # 3'ün karesi anlamına gelir."
   ]
  },
  {
   "cell_type": "code",
   "execution_count": 67,
   "metadata": {},
   "outputs": [
    {
     "name": "stdout",
     "output_type": "stream",
     "text": [
      "125\n"
     ]
    }
   ],
   "source": [
    "print(5**3) # 5'in kübü anlamına gelir."
   ]
  },
  {
   "cell_type": "code",
   "execution_count": 68,
   "metadata": {},
   "outputs": [
    {
     "name": "stdout",
     "output_type": "stream",
     "text": [
      "32\n"
     ]
    }
   ],
   "source": [
    "print(2**5) # 2'nin 5. üssü anlamına gelir."
   ]
  },
  {
   "cell_type": "code",
   "execution_count": 69,
   "metadata": {},
   "outputs": [
    {
     "name": "stdout",
     "output_type": "stream",
     "text": [
      "2\n"
     ]
    }
   ],
   "source": [
    "print(5 // 2) # kalanı görmezden gelir ve sonucu yuvarlar"
   ]
  },
  {
   "cell_type": "code",
   "execution_count": 70,
   "metadata": {},
   "outputs": [
    {
     "name": "stdout",
     "output_type": "stream",
     "text": [
      "1\n"
     ]
    }
   ],
   "source": [
    "print(7 // 4) # 1.75 sonuç fakat kalanı daima tabana yuvarlar, (floor division)"
   ]
  },
  {
   "cell_type": "markdown",
   "metadata": {},
   "source": [
    "## Atama Operatörleri <a id='16'></a>"
   ]
  },
  {
   "cell_type": "markdown",
   "metadata": {},
   "source": [
    "### Eşittir Operatörü"
   ]
  },
  {
   "cell_type": "code",
   "execution_count": 71,
   "metadata": {},
   "outputs": [
    {
     "name": "stdout",
     "output_type": "stream",
     "text": [
      "5\n"
     ]
    }
   ],
   "source": [
    "x = 5  # 5 değerini alır x'e atar. Atamalar soldan sağa yapılır.\n",
    "print(x)"
   ]
  },
  {
   "cell_type": "markdown",
   "metadata": {},
   "source": [
    "### Artı Eşittir Operatörü"
   ]
  },
  {
   "cell_type": "code",
   "execution_count": 72,
   "metadata": {},
   "outputs": [
    {
     "name": "stdout",
     "output_type": "stream",
     "text": [
      "9\n"
     ]
    }
   ],
   "source": [
    "x += 4   # x değerine 4 değerini ekler \"x = x + 4\" ifadesi de aynı anlama gelir.\n",
    "print(x)"
   ]
  },
  {
   "cell_type": "markdown",
   "metadata": {},
   "source": [
    "### Artı Eşittir Operatörü"
   ]
  },
  {
   "cell_type": "code",
   "execution_count": 73,
   "metadata": {},
   "outputs": [
    {
     "name": "stdout",
     "output_type": "stream",
     "text": [
      "13\n"
     ]
    }
   ],
   "source": [
    "x += 4   # x değerine 4 değerini ekler \"x = x + 4\" ifadesi de aynı anlama gelir.\n",
    "print(x)"
   ]
  },
  {
   "cell_type": "markdown",
   "metadata": {},
   "source": [
    "### Eksi Eşittir Operatörü"
   ]
  },
  {
   "cell_type": "code",
   "execution_count": 74,
   "metadata": {},
   "outputs": [
    {
     "name": "stdout",
     "output_type": "stream",
     "text": [
      "6\n"
     ]
    }
   ],
   "source": [
    "x -= 7   # x değerinden 7 değerini çıkarır, \"x = x - 7\" ifadesi de aynı anlama gelir.\n",
    "print(x)"
   ]
  },
  {
   "cell_type": "markdown",
   "metadata": {},
   "source": [
    "### Çarpı Eşittir Operatörü"
   ]
  },
  {
   "cell_type": "code",
   "execution_count": 75,
   "metadata": {},
   "outputs": [
    {
     "name": "stdout",
     "output_type": "stream",
     "text": [
      "18\n"
     ]
    }
   ],
   "source": [
    "x *= 3   # x değerini 3 ile çarpar, \"x = x * 3\" ifadesi de aynı anlama gelir.\n",
    "print(x)"
   ]
  },
  {
   "cell_type": "markdown",
   "metadata": {},
   "source": [
    "### Bölü Eşittir Operatörü"
   ]
  },
  {
   "cell_type": "code",
   "execution_count": 76,
   "metadata": {},
   "outputs": [
    {
     "name": "stdout",
     "output_type": "stream",
     "text": [
      "3.0\n"
     ]
    }
   ],
   "source": [
    "x /= 6   # x değerine 6 değerine böler, \"x = x / 6\" ifadesi de aynı anlama gelir.\n",
    "print(x)"
   ]
  },
  {
   "cell_type": "markdown",
   "metadata": {},
   "source": [
    "### Mod Eşittir Operatörü"
   ]
  },
  {
   "cell_type": "code",
   "execution_count": 77,
   "metadata": {},
   "outputs": [
    {
     "name": "stdout",
     "output_type": "stream",
     "text": [
      "1.0\n"
     ]
    }
   ],
   "source": [
    "x %= 2    # x değerinin 2 ye bölümünden kalanı x değeri yapar, \"x = x % 2\" ifadesi de aynı anlama gelir.\n",
    "print(x)"
   ]
  },
  {
   "cell_type": "markdown",
   "metadata": {},
   "source": [
    "## Karşılaştırma Operatörleri <a id='17'></a>"
   ]
  },
  {
   "cell_type": "markdown",
   "metadata": {},
   "source": [
    "### Eşit Eşittir Operatörü"
   ]
  },
  {
   "cell_type": "code",
   "execution_count": 78,
   "metadata": {},
   "outputs": [
    {
     "name": "stdout",
     "output_type": "stream",
     "text": [
      "False\n"
     ]
    }
   ],
   "source": [
    "x = 5 \n",
    "y = 10\n",
    "\n",
    "print(x == y)"
   ]
  },
  {
   "cell_type": "markdown",
   "metadata": {},
   "source": [
    "### Eşit Değildir Operatörü"
   ]
  },
  {
   "cell_type": "code",
   "execution_count": 79,
   "metadata": {},
   "outputs": [
    {
     "name": "stdout",
     "output_type": "stream",
     "text": [
      "True\n"
     ]
    }
   ],
   "source": [
    "print(x != y)"
   ]
  },
  {
   "cell_type": "markdown",
   "metadata": {},
   "source": [
    "### Büyüktür Operatörü"
   ]
  },
  {
   "cell_type": "code",
   "execution_count": 80,
   "metadata": {},
   "outputs": [
    {
     "name": "stdout",
     "output_type": "stream",
     "text": [
      "False\n"
     ]
    }
   ],
   "source": [
    "print(x > y)"
   ]
  },
  {
   "cell_type": "markdown",
   "metadata": {},
   "source": [
    "### Küçüktür Operatörü"
   ]
  },
  {
   "cell_type": "code",
   "execution_count": 81,
   "metadata": {},
   "outputs": [
    {
     "name": "stdout",
     "output_type": "stream",
     "text": [
      "True\n"
     ]
    }
   ],
   "source": [
    "print(x < y)"
   ]
  },
  {
   "cell_type": "markdown",
   "metadata": {},
   "source": [
    "### Büyük Eşittir Operatörü"
   ]
  },
  {
   "cell_type": "code",
   "execution_count": 82,
   "metadata": {},
   "outputs": [
    {
     "name": "stdout",
     "output_type": "stream",
     "text": [
      "False\n"
     ]
    }
   ],
   "source": [
    "print(x >= y)"
   ]
  },
  {
   "cell_type": "markdown",
   "metadata": {},
   "source": [
    "### Küçük Eşittir Operatörü"
   ]
  },
  {
   "cell_type": "code",
   "execution_count": 83,
   "metadata": {},
   "outputs": [
    {
     "name": "stdout",
     "output_type": "stream",
     "text": [
      "True\n"
     ]
    }
   ],
   "source": [
    "print(x <= y)"
   ]
  },
  {
   "cell_type": "markdown",
   "metadata": {},
   "source": [
    "## Mantıksal Operatörler <a id='18'></a>"
   ]
  },
  {
   "cell_type": "markdown",
   "metadata": {},
   "source": [
    "### Ve Operatörü"
   ]
  },
  {
   "cell_type": "markdown",
   "metadata": {},
   "source": [
    "And operatörünün bağlaç olduğu her koşul doğrulandığı sürece True döndürür. Tek bir koşul bile sağlanmasa False döndürür."
   ]
  },
  {
   "cell_type": "code",
   "execution_count": 84,
   "metadata": {},
   "outputs": [
    {
     "name": "stdout",
     "output_type": "stream",
     "text": [
      "False\n"
     ]
    }
   ],
   "source": [
    "x = 5\n",
    "\n",
    "print(x < 5 and  x < 10)"
   ]
  },
  {
   "cell_type": "code",
   "execution_count": 85,
   "metadata": {},
   "outputs": [
    {
     "name": "stdout",
     "output_type": "stream",
     "text": [
      "False\n"
     ]
    }
   ],
   "source": [
    "y = 10\n",
    "\n",
    "print(y == 8 and y > 20 and y < 20)"
   ]
  },
  {
   "cell_type": "markdown",
   "metadata": {},
   "source": [
    "### Veya Operatörü"
   ]
  },
  {
   "cell_type": "markdown",
   "metadata": {},
   "source": [
    "Sadece bir koşulun sağlanması True döndürmek için yeterlidir."
   ]
  },
  {
   "cell_type": "code",
   "execution_count": 86,
   "metadata": {},
   "outputs": [
    {
     "name": "stdout",
     "output_type": "stream",
     "text": [
      "True\n"
     ]
    }
   ],
   "source": [
    "x = 10\n",
    "\n",
    "print(x == 8 or x > 20 or x < 20) "
   ]
  },
  {
   "cell_type": "markdown",
   "metadata": {},
   "source": [
    "### Değil Operatörü"
   ]
  },
  {
   "cell_type": "code",
   "execution_count": 87,
   "metadata": {},
   "outputs": [
    {
     "data": {
      "text/plain": [
       "True"
      ]
     },
     "execution_count": 87,
     "metadata": {},
     "output_type": "execute_result"
    }
   ],
   "source": [
    "x = 20\n",
    "\n",
    "not(x < 5 and x < 25)  # Dönen değerin zıttını verir not ifadesi."
   ]
  },
  {
   "cell_type": "markdown",
   "metadata": {},
   "source": [
    "## Kimlik Operatörleri <a id='19'></a>"
   ]
  },
  {
   "cell_type": "markdown",
   "metadata": {},
   "source": [
    "### \"dır, dir\" Operatörü"
   ]
  },
  {
   "cell_type": "code",
   "execution_count": 88,
   "metadata": {},
   "outputs": [
    {
     "data": {
      "text/plain": [
       "False"
      ]
     },
     "execution_count": 88,
     "metadata": {},
     "output_type": "execute_result"
    }
   ],
   "source": [
    "x = 10\n",
    "y = 20\n",
    "\n",
    "(x is y)  # x, y midir? Hayır değildir."
   ]
  },
  {
   "cell_type": "markdown",
   "metadata": {},
   "source": [
    "### \"değildir\"  Operatörü"
   ]
  },
  {
   "cell_type": "code",
   "execution_count": 89,
   "metadata": {},
   "outputs": [
    {
     "data": {
      "text/plain": [
       "True"
      ]
     },
     "execution_count": 89,
     "metadata": {},
     "output_type": "execute_result"
    }
   ],
   "source": [
    "(x is not y)  # x, y değil midir? Evet değildir."
   ]
  },
  {
   "cell_type": "markdown",
   "metadata": {},
   "source": [
    "## Üyelik Operatörleri<a id='20'></a>"
   ]
  },
  {
   "cell_type": "markdown",
   "metadata": {},
   "source": [
    "### İçindedir Operatörü"
   ]
  },
  {
   "cell_type": "code",
   "execution_count": 90,
   "metadata": {},
   "outputs": [
    {
     "name": "stdout",
     "output_type": "stream",
     "text": [
      "True\n"
     ]
    }
   ],
   "source": [
    "harfler = [\"a\",\"b\",\"c\",\"d\"]\n",
    "\n",
    "print(\"a\" in harfler)"
   ]
  },
  {
   "cell_type": "code",
   "execution_count": 91,
   "metadata": {
    "scrolled": true
   },
   "outputs": [
    {
     "name": "stdout",
     "output_type": "stream",
     "text": [
      "False\n"
     ]
    }
   ],
   "source": [
    "print(\"x\" in harfler)"
   ]
  },
  {
   "cell_type": "markdown",
   "metadata": {},
   "source": [
    "### İçinde Değildir Operatörü"
   ]
  },
  {
   "cell_type": "code",
   "execution_count": 92,
   "metadata": {},
   "outputs": [
    {
     "name": "stdout",
     "output_type": "stream",
     "text": [
      "True\n"
     ]
    }
   ],
   "source": [
    "print(\"z\" not in harfler)  "
   ]
  },
  {
   "cell_type": "markdown",
   "metadata": {},
   "source": [
    "## Koşullu İfadeler <a id='21'></a>"
   ]
  },
  {
   "cell_type": "markdown",
   "metadata": {},
   "source": [
    "Öncelikle koşul operatörlerini tekrar hatırlamak gerekiyor. Aşağıdaki ifadelerin hepsi bir soruyu temsil ediyor.\n",
    "\n",
    "    Eşit midir?             a == b\n",
    "    Eşit değil midir?       a != b\n",
    "    Küçük müdür?            a < b\n",
    "    Küçük veya eşit midir?  a <= b\n",
    "    Büyük müdür?            a > b\n",
    "    Büyük veya eşit midir?  a >= b"
   ]
  },
  {
   "cell_type": "markdown",
   "metadata": {},
   "source": [
    "### If - Else  <a id='22'></a>"
   ]
  },
  {
   "cell_type": "code",
   "execution_count": 93,
   "metadata": {},
   "outputs": [
    {
     "name": "stdout",
     "output_type": "stream",
     "text": [
      "4 büyüktür 1'den.\n"
     ]
    }
   ],
   "source": [
    "if 4 > 1:\n",
    "    print(\"4 büyüktür 1'den.\")"
   ]
  },
  {
   "cell_type": "code",
   "execution_count": 173,
   "metadata": {},
   "outputs": [
    {
     "name": "stdout",
     "output_type": "stream",
     "text": [
      "5 sayısı 5'e eşit veya büyüktür.\n"
     ]
    }
   ],
   "source": [
    "if(5 >= 5):\n",
    "    print(\"5 sayısı 5'e eşit veya büyüktür.\")"
   ]
  },
  {
   "cell_type": "code",
   "execution_count": 174,
   "metadata": {
    "scrolled": true
   },
   "outputs": [
    {
     "name": "stdout",
     "output_type": "stream",
     "text": [
      "a küçüktür b'den.\n"
     ]
    }
   ],
   "source": [
    "a, b = 33, 200\n",
    "\n",
    "if a < b:\n",
    "    print(\"a küçüktür b'den.\")"
   ]
  },
  {
   "cell_type": "markdown",
   "metadata": {},
   "source": [
    "Eğer koşul sağlanmıyorsa \"else\" ifadesi kullanılır."
   ]
  },
  {
   "cell_type": "code",
   "execution_count": 175,
   "metadata": {
    "scrolled": true
   },
   "outputs": [
    {
     "name": "stdout",
     "output_type": "stream",
     "text": [
      "b büyük değildir c'den.\n"
     ]
    }
   ],
   "source": [
    "b, c = 200, 250\n",
    "\n",
    "if b > c:\n",
    "    print(\"b büyüktür c'den.\")\n",
    "    \n",
    "else:  # if bloğuna girmezse kesinlikle buraya giriyor.\n",
    "    print(\"b büyük değildir c'den.\")"
   ]
  },
  {
   "cell_type": "markdown",
   "metadata": {},
   "source": [
    "if ve else ifadeleri ile iki koşulu göz önünde bulundururuz. Peki ya çok daha fazla koşul varsa? İki sayı birbirinden küçük veya büyük olabilir fakat aynı zamanda eşit de olabilir."
   ]
  },
  {
   "cell_type": "code",
   "execution_count": 176,
   "metadata": {},
   "outputs": [
    {
     "name": "stdout",
     "output_type": "stream",
     "text": [
      "c ne küçüktür ne de büyüktür d'den. demek ki eşittir.\n"
     ]
    }
   ],
   "source": [
    "d = 250 \n",
    "c = 250\n",
    "\n",
    "if c > d:    # büyükse alt satırdaki mesajı print eder ve bitirir.\n",
    "    print(\"c büyüktür d'den.\")\n",
    "    \n",
    "elif c < d:  # küçükse alt satırdaki mesajı print eder ve bitirir.\n",
    "    print(\"c küçüktür d'den.\")\n",
    "    \n",
    "else:        # buraya geldiğine göre eşit olmak zorundadır, print eder ve bitirir.\n",
    "    print(\"c ne küçüktür ne de büyüktür d'den. demek ki eşittir.\")"
   ]
  },
  {
   "cell_type": "markdown",
   "metadata": {},
   "source": [
    "### Kısa Yol Koşul İfadesi <a id='23'></a>"
   ]
  },
  {
   "cell_type": "markdown",
   "metadata": {},
   "source": [
    "Tek bir satırda iki üç koşul ifadesi yazmak mümkün."
   ]
  },
  {
   "cell_type": "code",
   "execution_count": 177,
   "metadata": {},
   "outputs": [
    {
     "name": "stdout",
     "output_type": "stream",
     "text": [
      "c büyüktür b'den.\n"
     ]
    }
   ],
   "source": [
    "b, c = 5, 10\n",
    "\n",
    "if c > b: print(\"c büyüktür b'den.\")"
   ]
  },
  {
   "cell_type": "markdown",
   "metadata": {},
   "source": [
    "Okunabilirliği gitgide zorlaşıyor."
   ]
  },
  {
   "cell_type": "code",
   "execution_count": 178,
   "metadata": {},
   "outputs": [
    {
     "name": "stdout",
     "output_type": "stream",
     "text": [
      "b küçüktür c'den.\n"
     ]
    }
   ],
   "source": [
    "print(\"b büyüktür c'den.\") if b > c else print(\"b küçüktür c'den.\")"
   ]
  },
  {
   "cell_type": "markdown",
   "metadata": {},
   "source": [
    "Bir satırda üç koşul ifadesi! Kodun okunabilirliği kalmamak üzere."
   ]
  },
  {
   "cell_type": "code",
   "execution_count": 179,
   "metadata": {},
   "outputs": [
    {
     "name": "stdout",
     "output_type": "stream",
     "text": [
      "b küçüktür c'den.\n"
     ]
    }
   ],
   "source": [
    "print(\"b büyüktür c'den.\") if b > c else print(\"b ve c birbirine eşittir.\") if b == c else print(\"b küçüktür c'den.\") "
   ]
  },
  {
   "cell_type": "markdown",
   "metadata": {},
   "source": [
    "### Ve ile Koşul İfadeleri <a id='24'></a>"
   ]
  },
  {
   "cell_type": "markdown",
   "metadata": {},
   "source": [
    "Ve ifadesi iki veya daha fazla koşul için kullanılır. Ve bağlacının bağlamış olduğu tüm ifadelerin doğruluğu şarttır koşulun sağlanması için."
   ]
  },
  {
   "cell_type": "code",
   "execution_count": 180,
   "metadata": {},
   "outputs": [
    {
     "name": "stdout",
     "output_type": "stream",
     "text": [
      "Hem a, b'den büyüktür hem de c, a'dan büyüktür.\n"
     ]
    }
   ],
   "source": [
    "a, b, c = 200,33,500\n",
    "\n",
    "if a > b and c > a:\n",
    "    print(\"Hem a, b'den büyüktür hem de c, a'dan büyüktür.\")"
   ]
  },
  {
   "cell_type": "markdown",
   "metadata": {},
   "source": [
    "### Veya ile Koşul İfadeleri <a id='25'></a>"
   ]
  },
  {
   "cell_type": "markdown",
   "metadata": {},
   "source": [
    "Ve'nin aksine Veya bağlacında sadece bir ifadenin doğruluğu yeterlidir koşulun sağlanması için."
   ]
  },
  {
   "cell_type": "code",
   "execution_count": 181,
   "metadata": {},
   "outputs": [
    {
     "name": "stdout",
     "output_type": "stream",
     "text": [
      "Ya a b'den büyüktür ya da c a'dan büyüktür veya iki koşul da doğrudur.\n"
     ]
    }
   ],
   "source": [
    "if a > b or c > a:\n",
    "    print(\"Ya a b'den büyüktür ya da c a'dan büyüktür veya iki koşul da doğrudur.\")"
   ]
  },
  {
   "cell_type": "markdown",
   "metadata": {},
   "source": [
    "### İç İçe if Yapılanması <a id='26'></a>"
   ]
  },
  {
   "cell_type": "code",
   "execution_count": 183,
   "metadata": {
    "scrolled": true
   },
   "outputs": [
    {
     "name": "stdout",
     "output_type": "stream",
     "text": [
      "x 10'dan büyüktür.\n",
      "ve x 20'den de büyüktür!\n"
     ]
    }
   ],
   "source": [
    "x = 41\n",
    "\n",
    "# eğer ilk if koşulu sağlanmazsa direkt bitirecek.\n",
    "\n",
    "if x > 10:\n",
    "    print(\"x 10'dan büyüktür.\")\n",
    "    \n",
    "    if x > 20: \n",
    "        print(\"ve x 20'den de büyüktür!\")\n",
    "        \n",
    "    else:\n",
    "        print(\"ve x 20'den büyük değildir.\") "
   ]
  },
  {
   "cell_type": "markdown",
   "metadata": {},
   "source": [
    "### Pass Geçmek <a id='27'></a>"
   ]
  },
  {
   "cell_type": "markdown",
   "metadata": {},
   "source": [
    "İki sayıyı birbiriyle karşılaştıracağız. Büyükse büyüktür, küçükse küçüktür yazdırmak istiyoruz. Ancak üçüncü bir ihtimal olan eşitlik koşulu sağlandığında hiçbir şey yapmayacağız."
   ]
  },
  {
   "cell_type": "code",
   "execution_count": 184,
   "metadata": {},
   "outputs": [],
   "source": [
    "a = 10\n",
    "b = 10\n",
    "\n",
    "if b < a:\n",
    "    print(\"b küçüktür a'dan\")\n",
    "elif b > a:\n",
    "    print(\"b büyüktür a'dan.\")\n",
    "    \n",
    "else: # eğer eşitse hiçbir şey yazdırma.\n",
    "    pass"
   ]
  },
  {
   "cell_type": "markdown",
   "metadata": {},
   "source": [
    "# Döngüler <a id='28'></a>"
   ]
  },
  {
   "cell_type": "markdown",
   "metadata": {},
   "source": [
    "Python'da while ve for olmak üzere iki çeşit döngü vardır."
   ]
  },
  {
   "cell_type": "markdown",
   "metadata": {},
   "source": [
    "## While Döngüsü <a id='29'></a>"
   ]
  },
  {
   "cell_type": "markdown",
   "metadata": {},
   "source": [
    "While döngüsü ile, bir koşul doğru olduğu sürece istediğimiz kodları tekrar tekrar çalıştırabiliriz. "
   ]
  },
  {
   "cell_type": "code",
   "execution_count": 192,
   "metadata": {},
   "outputs": [
    {
     "name": "stdout",
     "output_type": "stream",
     "text": [
      "0\n",
      "1\n",
      "2\n",
      "3\n",
      "4\n",
      "5\n"
     ]
    }
   ],
   "source": [
    "sayac = 0  # sayaca başlangıçta 1 değerini verdik.\n",
    "\n",
    "while sayac < 6:    # döngüye girmenin şartı sayacın 6 değerinden küçük olması, koşulu sağladığı için döngüye girer.\n",
    "    \n",
    "    print(sayac)    # sayacı her döngü aşamasında bastırıyoruz.\n",
    "    \n",
    "    sayac += 1       # her seferinde sayacın değerini 1 artırıyoruz.\n",
    "    \n",
    "# eğer sayacın değerini 1 artırmazsak asla 6 değerine ulaşamayacağı için döngüden çıkmanın koşulunu sağlayamaz,\n",
    "# sonsuz bir döngüye girmiş olur ve çekirdek kilitlenebilir."
   ]
  },
  {
   "cell_type": "markdown",
   "metadata": {},
   "source": [
    "Break deyimi ile döngüyü istediğimiz yerde sonlandırabiliriz."
   ]
  },
  {
   "cell_type": "code",
   "execution_count": 193,
   "metadata": {},
   "outputs": [
    {
     "name": "stdout",
     "output_type": "stream",
     "text": [
      "0\n",
      "1\n",
      "2\n",
      "3\n"
     ]
    }
   ],
   "source": [
    "sayac = 0\n",
    "\n",
    "while sayac < 6: # sayac 6'dan küçük olduğu için döngüye kabul ediliyor.\n",
    "    \n",
    "    print(sayac) # her döngü safhasında sayac değerini basıyor.\n",
    "    \n",
    "    if sayac == 3: # her döngü safhasında sayac 3'e eşit mi kontrolü yapılıyor.\n",
    "        break      # eğer döngü 3'e eşit ise döngüyü sonlandırıyor. \n",
    "\n",
    "    sayac += 1\n",
    "    # döngünün sayac değerinin 1'de sonsuza kadar kalmasını istemeyiz, 1 artırıyoruz her safhada."
   ]
  },
  {
   "cell_type": "markdown",
   "metadata": {},
   "source": [
    "Continue deyimi ile döngüyü istediğimiz yere özel pas geçebiliriz."
   ]
  },
  {
   "cell_type": "code",
   "execution_count": 194,
   "metadata": {
    "scrolled": true
   },
   "outputs": [
    {
     "name": "stdout",
     "output_type": "stream",
     "text": [
      "1\n",
      "2\n",
      "4\n",
      "5\n",
      "6\n"
     ]
    }
   ],
   "source": [
    "sayac = 0\n",
    "\n",
    "while sayac < 6: # sayac 6'dan küçük olduğu için döngüye kabul ediliyor, giriyor.\n",
    "    \n",
    "    sayac += 1      # döngünün sayac değerinin 1'de sonsuza kadar kalmasını istemeyiz, 1 artırıyoruz her safhada.\n",
    "    \n",
    "    if sayac == 3:  # her döngü safhasında sayac 3'e eşit mi kontrolü yapılıyor, çünkü 3 değerini pas geçsin istiyoruz.\n",
    "        continue    # eğer döngü 3'e eşit ise \"SADECE BU SAFHAYI SONLANDIRIYOR VE DÖNGÜ DEVAM EDİYOR.\" \n",
    "    \n",
    "    print(sayac)   # her döngü safhasında sayac değerini basıyor. 3'e geldiğinde safhayı \n",
    "                   # 3 değerini print edemiyor. erken sonlandırdığı için"
   ]
  },
  {
   "cell_type": "code",
   "execution_count": 195,
   "metadata": {
    "scrolled": true
   },
   "outputs": [
    {
     "name": "stdout",
     "output_type": "stream",
     "text": [
      "i değeri 1 e eşit.\n",
      "i değeri 2 e eşit.\n",
      "i değeri 3 e eşit.\n",
      "i değeri 4 e eşit.\n",
      "i değeri 5 e eşit.\n",
      "i artık 6'dan küçük değil.\n"
     ]
    }
   ],
   "source": [
    "i = 1\n",
    "\n",
    "while i < 6:\n",
    "\n",
    "    print(\"i değeri\",i,\"e eşit.\")\n",
    "    i += 1\n",
    "\n",
    "else:\n",
    "    print(\"i artık 6'dan küçük değil.\")"
   ]
  },
  {
   "cell_type": "markdown",
   "metadata": {},
   "source": [
    "## For Döngüsü <a id='30'></a>"
   ]
  },
  {
   "cell_type": "markdown",
   "metadata": {},
   "source": [
    "For döngüsü bir sekans üzerinde (bir liste, bir demet, bir sözlük, bir dizi veya bir dize) yineleme yapmak için kullanılır.\n",
    "\n",
    "Bu, diğer programlama dillerindeki for anahtar sözcüğüne benzer ve diğer nesne yönelimli programlama dillerinde bulunan bir yineleyici yöntemi gibi çalışır.\n",
    "\n",
    "For döngüsü ile, bir listedeki, gruptaki, kümedeki her öğe için bir kez bir dizi deyim yürütebiliriz."
   ]
  },
  {
   "cell_type": "code",
   "execution_count": 197,
   "metadata": {},
   "outputs": [
    {
     "name": "stdout",
     "output_type": "stream",
     "text": [
      "elma\n",
      "armut\n",
      "kiraz\n",
      "kavun\n"
     ]
    }
   ],
   "source": [
    "meyve_listesi = [\"elma\", \"armut\", \"kiraz\", \"kavun\"]\n",
    "\n",
    "for meyvex in meyve_listesi: # meyve listesindeki her bir nesneye \"meyve\" ismini verdik.\n",
    "    print(meyvex)            # her bir nesneyi yani meyveyi de bastırdık."
   ]
  },
  {
   "cell_type": "markdown",
   "metadata": {},
   "source": [
    "Belirlediğim meyveye gelirsen döngüyü sonlandır."
   ]
  },
  {
   "cell_type": "code",
   "execution_count": 198,
   "metadata": {},
   "outputs": [
    {
     "name": "stdout",
     "output_type": "stream",
     "text": [
      "elma\n",
      "armut\n"
     ]
    }
   ],
   "source": [
    "for meyve in meyve_listesi: # meyve listesindeki her bir nesneye \"meyve\" ismini verdik.\n",
    "    if(meyve == \"kiraz\"):\n",
    "        break\n",
    "    print(meyve)            # her bir nesneyi yani meyveyi de bastırdık."
   ]
  },
  {
   "cell_type": "markdown",
   "metadata": {},
   "source": [
    "Belirlediğim meyveye gelirsen döngünün o safhasını sonlandır ve gelecek meyve ile devam et."
   ]
  },
  {
   "cell_type": "code",
   "execution_count": 199,
   "metadata": {},
   "outputs": [
    {
     "name": "stdout",
     "output_type": "stream",
     "text": [
      "elma\n",
      "armut\n",
      "kavun\n"
     ]
    }
   ],
   "source": [
    "for meyve in meyve_listesi:  \n",
    "    if(meyve == \"kiraz\"):  # eğer meyve kiraz'a gelmişse\n",
    "        continue           # döngünün bu safhasını burada sonlandır, gelecek meyve ile devam et.\n",
    "    print(meyve)  "
   ]
  },
  {
   "cell_type": "markdown",
   "metadata": {},
   "source": [
    "Karakter dizileri de birer sekans oldukları için for döngüsü ile her elemanı gözlemlenebilir."
   ]
  },
  {
   "cell_type": "code",
   "execution_count": 202,
   "metadata": {},
   "outputs": [
    {
     "name": "stdout",
     "output_type": "stream",
     "text": [
      "k bu bir harftir.\n",
      "a bu bir harftir.\n",
      "r bu bir harftir.\n",
      "p bu bir harftir.\n",
      "u bu bir harftir.\n",
      "z bu bir harftir.\n"
     ]
    }
   ],
   "source": [
    "for x in \"karpuz\": \n",
    "    print(x , \"bu bir harftir.\") "
   ]
  },
  {
   "cell_type": "markdown",
   "metadata": {},
   "source": [
    "#### Range() ile Sayısal Sekanslar Oluşturmak"
   ]
  },
  {
   "cell_type": "markdown",
   "metadata": {},
   "source": [
    "Bir kod kümesinde belirli sayıda dönmesini istediğimiz bir döngü oluşturmak için range() fonksiyonunu kullanabiliriz."
   ]
  },
  {
   "cell_type": "code",
   "execution_count": 210,
   "metadata": {},
   "outputs": [
    {
     "name": "stdout",
     "output_type": "stream",
     "text": [
      "0\n",
      "1\n",
      "2\n",
      "3\n",
      "4\n",
      "5\n"
     ]
    }
   ],
   "source": [
    "for sayi in range(6): # 0'dan başla 6'ya kadar dön.\n",
    "    print(sayi)       # her bir safhada sayi değerini bas."
   ]
  },
  {
   "cell_type": "code",
   "execution_count": 211,
   "metadata": {},
   "outputs": [
    {
     "name": "stdout",
     "output_type": "stream",
     "text": [
      "3\n",
      "4\n",
      "5\n",
      "6\n",
      "7\n"
     ]
    }
   ],
   "source": [
    "for sayi in range(3,8): # 3'den başla 8 değerine kadar dön.\n",
    "    print(sayi)         # her bir safhada sayi değerini bas."
   ]
  },
  {
   "cell_type": "code",
   "execution_count": 212,
   "metadata": {},
   "outputs": [
    {
     "name": "stdout",
     "output_type": "stream",
     "text": [
      "28\n",
      "35\n",
      "42\n",
      "49\n",
      "56\n",
      "63\n",
      "70\n",
      "77\n"
     ]
    }
   ],
   "source": [
    "for sayi in range(28,78,7): # 28'dan başla 78 değerine kadar dön, 7'şer adımlarla git.\n",
    "    print(sayi)              # her bir safhada sayi değerini bas."
   ]
  },
  {
   "cell_type": "markdown",
   "metadata": {},
   "source": [
    "While döngüsünde olduğu gibi for döngüsü de artık şartı sağlamadığında bitmiş olacaktır. Bittiğinde else bloğu ile döngünün sonlandığına dair mesaj vermek veya başka işlemler yapmak mümkündür."
   ]
  },
  {
   "cell_type": "code",
   "execution_count": 213,
   "metadata": {},
   "outputs": [
    {
     "name": "stdout",
     "output_type": "stream",
     "text": [
      "0\n",
      "1\n",
      "2\n",
      "3\n",
      "4\n",
      "5\n",
      "6\n",
      "Nihayet bitti!\n"
     ]
    }
   ],
   "source": [
    "for x in range(7):\n",
    "    print(x)\n",
    "\n",
    "else:\n",
    "    print(\"Nihayet bitti!\") "
   ]
  },
  {
   "cell_type": "markdown",
   "metadata": {},
   "source": [
    "İç içe for döngüsü yazılarak 3 rengi 3 meyve ile 9 farklı şekilde kombinleyelim ve yazdıralım."
   ]
  },
  {
   "cell_type": "code",
   "execution_count": 214,
   "metadata": {},
   "outputs": [
    {
     "name": "stdout",
     "output_type": "stream",
     "text": [
      "kırmızı elma\n",
      "kırmızı muz\n",
      "kırmızı portakal\n",
      "sarı elma\n",
      "sarı muz\n",
      "sarı portakal\n",
      "yeşil elma\n",
      "yeşil muz\n",
      "yeşil portakal\n"
     ]
    }
   ],
   "source": [
    "renkler = [\"kırmızı\", \"sarı\", \"yeşil\"]\n",
    "meyveler = [\"elma\", \"muz\", \"portakal\"]\n",
    "\n",
    "for renk in renkler:  # tüm renkleri tek tek dönecektir.\n",
    "    \n",
    "    \n",
    "    for meyve in meyveler:  # tüm meyveleri tek tek dönecektir\n",
    "        \n",
    "        print(renk, meyve)  \n",
    "        # her renk için her meyveye tek tek girecek\n",
    "        # dolayısıyla 3x3 9 farklı kombin ortaya çıkacaktır."
   ]
  },
  {
   "cell_type": "code",
   "execution_count": 215,
   "metadata": {
    "scrolled": true
   },
   "outputs": [
    {
     "name": "stdout",
     "output_type": "stream",
     "text": [
      "1  x  1  =  1\n",
      "1  x  2  =  2\n",
      "1  x  3  =  3\n",
      "1  x  4  =  4\n",
      "1  x  5  =  5\n",
      "1  x  6  =  6\n",
      "1  x  7  =  7\n",
      "1  x  8  =  8\n",
      "1  x  9  =  9\n",
      "1  x  10  =  10\n",
      "\n",
      "\n",
      "2  x  1  =  2\n",
      "2  x  2  =  4\n",
      "2  x  3  =  6\n",
      "2  x  4  =  8\n",
      "2  x  5  =  10\n",
      "2  x  6  =  12\n",
      "2  x  7  =  14\n",
      "2  x  8  =  16\n",
      "2  x  9  =  18\n",
      "2  x  10  =  20\n",
      "\n",
      "\n",
      "3  x  1  =  3\n",
      "3  x  2  =  6\n",
      "3  x  3  =  9\n",
      "3  x  4  =  12\n",
      "3  x  5  =  15\n",
      "3  x  6  =  18\n",
      "3  x  7  =  21\n",
      "3  x  8  =  24\n",
      "3  x  9  =  27\n",
      "3  x  10  =  30\n",
      "\n",
      "\n",
      "4  x  1  =  4\n",
      "4  x  2  =  8\n",
      "4  x  3  =  12\n",
      "4  x  4  =  16\n",
      "4  x  5  =  20\n",
      "4  x  6  =  24\n",
      "4  x  7  =  28\n",
      "4  x  8  =  32\n",
      "4  x  9  =  36\n",
      "4  x  10  =  40\n",
      "\n",
      "\n",
      "5  x  1  =  5\n",
      "5  x  2  =  10\n",
      "5  x  3  =  15\n",
      "5  x  4  =  20\n",
      "5  x  5  =  25\n",
      "5  x  6  =  30\n",
      "5  x  7  =  35\n",
      "5  x  8  =  40\n",
      "5  x  9  =  45\n",
      "5  x  10  =  50\n",
      "\n",
      "\n",
      "6  x  1  =  6\n",
      "6  x  2  =  12\n",
      "6  x  3  =  18\n",
      "6  x  4  =  24\n",
      "6  x  5  =  30\n",
      "6  x  6  =  36\n",
      "6  x  7  =  42\n",
      "6  x  8  =  48\n",
      "6  x  9  =  54\n",
      "6  x  10  =  60\n",
      "\n",
      "\n",
      "7  x  1  =  7\n",
      "7  x  2  =  14\n",
      "7  x  3  =  21\n",
      "7  x  4  =  28\n",
      "7  x  5  =  35\n",
      "7  x  6  =  42\n",
      "7  x  7  =  49\n",
      "7  x  8  =  56\n",
      "7  x  9  =  63\n",
      "7  x  10  =  70\n",
      "\n",
      "\n",
      "8  x  1  =  8\n",
      "8  x  2  =  16\n",
      "8  x  3  =  24\n",
      "8  x  4  =  32\n",
      "8  x  5  =  40\n",
      "8  x  6  =  48\n",
      "8  x  7  =  56\n",
      "8  x  8  =  64\n",
      "8  x  9  =  72\n",
      "8  x  10  =  80\n",
      "\n",
      "\n",
      "9  x  1  =  9\n",
      "9  x  2  =  18\n",
      "9  x  3  =  27\n",
      "9  x  4  =  36\n",
      "9  x  5  =  45\n",
      "9  x  6  =  54\n",
      "9  x  7  =  63\n",
      "9  x  8  =  72\n",
      "9  x  9  =  81\n",
      "9  x  10  =  90\n",
      "\n",
      "\n",
      "10  x  1  =  10\n",
      "10  x  2  =  20\n",
      "10  x  3  =  30\n",
      "10  x  4  =  40\n",
      "10  x  5  =  50\n",
      "10  x  6  =  60\n",
      "10  x  7  =  70\n",
      "10  x  8  =  80\n",
      "10  x  9  =  90\n",
      "10  x  10  =  100\n",
      "\n",
      "\n"
     ]
    }
   ],
   "source": [
    "for i in range(1,11):\n",
    "    for j in range(1,11):\n",
    "        print(i,\" x \", j , \" = \" , i*j)\n",
    "    print(\"\\n\")"
   ]
  },
  {
   "cell_type": "markdown",
   "metadata": {},
   "source": [
    "# Fonksiyonlar <a id='31'></a>"
   ]
  },
  {
   "cell_type": "markdown",
   "metadata": {},
   "source": [
    "Fonksiyon, yalnızca çağrıldığında çalışan bir kod bloğudur. Fonksiyonlara parametre olarak veriler aktarılabilir veya aktarılmayabilir. Ayrıca fonksiyonlar bir veri döndürebilir veya döndürmeyebilir."
   ]
  },
  {
   "cell_type": "markdown",
   "metadata": {},
   "source": [
    "Fonksiyon, yalnızca çağrıldığında çalışan bir kod bloğudur. Fonksiyonlara parametre olarak veriler aktarılabilir veya aktarılmayabilir. Ayrıca fonksiyonlar bir veri döndürebilir veya döndürmeyebilir."
   ]
  },
  {
   "cell_type": "markdown",
   "metadata": {},
   "source": [
    "### Sabit Mesaj Yazdıran Fonksiyon <a id='32'></a>"
   ]
  },
  {
   "cell_type": "code",
   "execution_count": 217,
   "metadata": {},
   "outputs": [],
   "source": [
    "def selamla():  # parametre almamış, bir veri döndürmeyen fonksiyon.\n",
    "    \n",
    "    print(\"Selamlar!\")  # mesaj yazdırıyor."
   ]
  },
  {
   "cell_type": "code",
   "execution_count": 218,
   "metadata": {},
   "outputs": [
    {
     "name": "stdout",
     "output_type": "stream",
     "text": [
      "Selamlar!\n"
     ]
    }
   ],
   "source": [
    "selamla()"
   ]
  },
  {
   "cell_type": "markdown",
   "metadata": {},
   "source": [
    "### Parametre ile Mesaj Yazdıran Fonksiyon <a id='33'></a>"
   ]
  },
  {
   "cell_type": "code",
   "execution_count": 220,
   "metadata": {},
   "outputs": [
    {
     "name": "stdout",
     "output_type": "stream",
     "text": [
      "Selam Dünya\n"
     ]
    }
   ],
   "source": [
    "def selamla(isim):\n",
    "    \n",
    "    print(\"Selam\", isim)\n",
    "    \n",
    "    \n",
    "selamla(\"Dünya\")"
   ]
  },
  {
   "cell_type": "code",
   "execution_count": 221,
   "metadata": {},
   "outputs": [],
   "source": [
    "def meyve_listele(meyveler): # meyveler bir liste, listeyi parametre alıyor.\n",
    "    \n",
    "    for meyve in meyveler:  # listenin içerisindeki tüm nesneleri geziyor.\n",
    "        print(meyve)        # her bir nesneyi yazdırıyor."
   ]
  },
  {
   "cell_type": "code",
   "execution_count": 222,
   "metadata": {},
   "outputs": [],
   "source": [
    "meyveler = [\"elma\",\"muz\", \"armut\"]  # meyveler listesi oluşturuluyor"
   ]
  },
  {
   "cell_type": "code",
   "execution_count": 226,
   "metadata": {},
   "outputs": [
    {
     "name": "stdout",
     "output_type": "stream",
     "text": [
      "elma\n",
      "muz\n",
      "armut\n"
     ]
    }
   ],
   "source": [
    "a = meyve_listele(meyveler)             # parametre olarak geçiliyor."
   ]
  },
  {
   "cell_type": "markdown",
   "metadata": {},
   "source": [
    "### Değer Döndüren Fonksiyon <a id='34'></a>"
   ]
  },
  {
   "cell_type": "code",
   "execution_count": 228,
   "metadata": {},
   "outputs": [
    {
     "data": {
      "text/plain": [
       "15"
      ]
     },
     "execution_count": 228,
     "metadata": {},
     "output_type": "execute_result"
    }
   ],
   "source": [
    "def topla(x,y): # iki değeri parametre olarak alır\n",
    "    \n",
    "    return x+y  # parametreleri birbiriyle toplar ve değer döndürür.\n",
    "\n",
    "\n",
    "topla(5,10)"
   ]
  },
  {
   "cell_type": "code",
   "execution_count": 229,
   "metadata": {},
   "outputs": [
    {
     "data": {
      "text/plain": [
       "35"
      ]
     },
     "execution_count": 229,
     "metadata": {},
     "output_type": "execute_result"
    }
   ],
   "source": [
    "def topla(x,y,z):\n",
    "    \n",
    "    return x+y+z\n",
    "\n",
    "\n",
    "topla(5,10,20)"
   ]
  },
  {
   "cell_type": "markdown",
   "metadata": {},
   "source": [
    "### Varsayılan Parametreli Fonksiyon <a id='35'></a>"
   ]
  },
  {
   "cell_type": "code",
   "execution_count": 230,
   "metadata": {
    "scrolled": true
   },
   "outputs": [
    {
     "data": {
      "text/plain": [
       "70"
      ]
     },
     "execution_count": 230,
     "metadata": {},
     "output_type": "execute_result"
    }
   ],
   "source": [
    "def topla(x = 10, y = 20):  # Eğer değer girilmezse diye varsayılan parametre değerlerini girdik.\n",
    "    \n",
    "    return x + y            # iki değerin toplamını döndürür.\n",
    "\n",
    "\n",
    "topla(50)  # ilk parametre olan x değerini girdik sadece\n",
    "           # ikincisini girmediğimiz için varsayılan 20 aldı."
   ]
  },
  {
   "cell_type": "code",
   "execution_count": 231,
   "metadata": {},
   "outputs": [
    {
     "data": {
      "text/plain": [
       "70"
      ]
     },
     "execution_count": 231,
     "metadata": {},
     "output_type": "execute_result"
    }
   ],
   "source": [
    "topla(x = 50)"
   ]
  },
  {
   "cell_type": "code",
   "execution_count": 232,
   "metadata": {},
   "outputs": [
    {
     "data": {
      "text/plain": [
       "80"
      ]
     },
     "execution_count": 232,
     "metadata": {},
     "output_type": "execute_result"
    }
   ],
   "source": [
    "topla(50, 30)"
   ]
  },
  {
   "cell_type": "code",
   "execution_count": 233,
   "metadata": {},
   "outputs": [
    {
     "data": {
      "text/plain": [
       "30"
      ]
     },
     "execution_count": 233,
     "metadata": {},
     "output_type": "execute_result"
    }
   ],
   "source": [
    "topla()"
   ]
  },
  {
   "cell_type": "code",
   "execution_count": 234,
   "metadata": {},
   "outputs": [
    {
     "data": {
      "text/plain": [
       "60"
      ]
     },
     "execution_count": 234,
     "metadata": {},
     "output_type": "execute_result"
    }
   ],
   "source": [
    "topla(y = 50)"
   ]
  },
  {
   "cell_type": "code",
   "execution_count": null,
   "metadata": {
    "scrolled": true
   },
   "outputs": [],
   "source": [
    "topla(y = 44) # ikincisini girdik, bu sefer x değerini varsayılan olarak 10 aldı."
   ]
  },
  {
   "cell_type": "markdown",
   "metadata": {},
   "source": [
    "### *args ile Bağımsız Parametreli Fonksiyon <a id='36'></a>"
   ]
  },
  {
   "cell_type": "code",
   "execution_count": 235,
   "metadata": {},
   "outputs": [],
   "source": [
    "def son_ismi_ver(*isimler):\n",
    "\n",
    "    print(\"En son isim \" + isimler[-1])  # isimler kaç parametre alırsa alsın en sonuncusunu seçtik."
   ]
  },
  {
   "cell_type": "code",
   "execution_count": 236,
   "metadata": {},
   "outputs": [
    {
     "name": "stdout",
     "output_type": "stream",
     "text": [
      "En son isim Recep\n"
     ]
    }
   ],
   "source": [
    "son_ismi_ver(\"Ali\", \"Veli\", \"Kerim\", \"Recep\") # istediğimiz sayıda isim girebiliriz."
   ]
  },
  {
   "cell_type": "markdown",
   "metadata": {},
   "source": [
    "### *kwargs ile Bağımsız Parametreli Fonksiyon <a id='37'></a>"
   ]
  },
  {
   "cell_type": "markdown",
   "metadata": {},
   "source": [
    "**kwargs ile özgürce parametreler belirleyebilir ve dilediğimizi kullanabiliriz."
   ]
  },
  {
   "cell_type": "code",
   "execution_count": 238,
   "metadata": {
    "scrolled": true
   },
   "outputs": [],
   "source": [
    "def soyadi_ver(**tam_isim):\n",
    "    \n",
    "    print(\"Soyadı \" + tam_isim[\"soyad\"])"
   ]
  },
  {
   "cell_type": "code",
   "execution_count": 239,
   "metadata": {},
   "outputs": [
    {
     "name": "stdout",
     "output_type": "stream",
     "text": [
      "Soyadı Yılmaz\n"
     ]
    }
   ],
   "source": [
    "soyadi_ver(ad = \"Ali\", orta_ad= \"Veli\", soyad = \"Yılmaz\")"
   ]
  },
  {
   "cell_type": "markdown",
   "metadata": {},
   "source": [
    "### Birden Fazla Değer Döndüren Fonksiyon <a id='38'></a>"
   ]
  },
  {
   "cell_type": "markdown",
   "metadata": {},
   "source": [
    "Aldığı iki parametrenin iki katını çıktı olarak veren fonksiyon."
   ]
  },
  {
   "cell_type": "code",
   "execution_count": 240,
   "metadata": {},
   "outputs": [
    {
     "data": {
      "text/plain": [
       "(20, 30)"
      ]
     },
     "execution_count": 240,
     "metadata": {},
     "output_type": "execute_result"
    }
   ],
   "source": [
    "def ikiKati(x, y):\n",
    "    return x*2, y*2\n",
    "\n",
    "ikiKati(10,15)   # ilkini göstermek istesek?"
   ]
  },
  {
   "cell_type": "code",
   "execution_count": 241,
   "metadata": {},
   "outputs": [],
   "source": [
    "r, t = ikiKati(10,15)"
   ]
  },
  {
   "cell_type": "code",
   "execution_count": 242,
   "metadata": {},
   "outputs": [
    {
     "data": {
      "text/plain": [
       "20"
      ]
     },
     "execution_count": 242,
     "metadata": {},
     "output_type": "execute_result"
    }
   ],
   "source": [
    "r"
   ]
  },
  {
   "cell_type": "code",
   "execution_count": 243,
   "metadata": {},
   "outputs": [
    {
     "data": {
      "text/plain": [
       "30"
      ]
     },
     "execution_count": 243,
     "metadata": {},
     "output_type": "execute_result"
    }
   ],
   "source": [
    "t"
   ]
  },
  {
   "cell_type": "markdown",
   "metadata": {},
   "source": [
    "### Pass Geçen Fonksiyon <a id='39'></a>"
   ]
  },
  {
   "cell_type": "markdown",
   "metadata": {},
   "source": [
    "Eğer bir fonksyion yazıyor fakat içeriğini o an doldurmak istemiyorsanız hata almamak için \"pass\" ifadesi yine kullanılabilir"
   ]
  },
  {
   "cell_type": "code",
   "execution_count": 244,
   "metadata": {},
   "outputs": [],
   "source": [
    "def fonksiyon():\n",
    "    pass\n",
    "\n",
    "fonksiyon()"
   ]
  },
  {
   "cell_type": "markdown",
   "metadata": {},
   "source": [
    "### Lambda Fonksiyon <a id='40'></a>"
   ]
  },
  {
   "cell_type": "code",
   "execution_count": 245,
   "metadata": {
    "scrolled": true
   },
   "outputs": [
    {
     "data": {
      "text/plain": [
       "50"
      ]
     },
     "execution_count": 245,
     "metadata": {},
     "output_type": "execute_result"
    }
   ],
   "source": [
    "x = lambda a : a * 10\n",
    "x(5)"
   ]
  },
  {
   "cell_type": "code",
   "execution_count": 246,
   "metadata": {},
   "outputs": [
    {
     "data": {
      "text/plain": [
       "115"
      ]
     },
     "execution_count": 246,
     "metadata": {},
     "output_type": "execute_result"
    }
   ],
   "source": [
    "y = lambda a, b : a + b\n",
    "y(50, 65)"
   ]
  },
  {
   "cell_type": "code",
   "execution_count": 247,
   "metadata": {},
   "outputs": [],
   "source": [
    "fnc = lambda x : x + 1"
   ]
  },
  {
   "cell_type": "code",
   "execution_count": 248,
   "metadata": {},
   "outputs": [
    {
     "name": "stdout",
     "output_type": "stream",
     "text": [
      "2\n"
     ]
    }
   ],
   "source": [
    "print(fnc(1)) "
   ]
  },
  {
   "cell_type": "code",
   "execution_count": 249,
   "metadata": {},
   "outputs": [
    {
     "name": "stdout",
     "output_type": "stream",
     "text": [
      "3\n"
     ]
    }
   ],
   "source": [
    "print(fnc(fnc(1))) "
   ]
  },
  {
   "cell_type": "code",
   "execution_count": 250,
   "metadata": {},
   "outputs": [],
   "source": [
    "fnc2 = lambda x,y : x + y"
   ]
  },
  {
   "cell_type": "code",
   "execution_count": 251,
   "metadata": {},
   "outputs": [
    {
     "name": "stdout",
     "output_type": "stream",
     "text": [
      "11\n"
     ]
    }
   ],
   "source": [
    "print(fnc2(4,7))"
   ]
  },
  {
   "cell_type": "code",
   "execution_count": 252,
   "metadata": {},
   "outputs": [
    {
     "name": "stdout",
     "output_type": "stream",
     "text": [
      "6\n"
     ]
    }
   ],
   "source": [
    "print(fnc2(4, fnc(1))) "
   ]
  },
  {
   "cell_type": "markdown",
   "metadata": {},
   "source": [
    "### pip Paket Yöneticisi <a id='41'></a>"
   ]
  },
  {
   "cell_type": "markdown",
   "metadata": {},
   "source": [
    "pip ile varsayılan olarak gelmeyen paketlerin kurulması mümkündür."
   ]
  },
  {
   "cell_type": "code",
   "execution_count": 94,
   "metadata": {},
   "outputs": [
    {
     "name": "stdout",
     "output_type": "stream",
     "text": [
      "Collecting camelcase\n",
      "  Downloading camelcase-0.2.tar.gz (1.3 kB)\n",
      "  Preparing metadata (setup.py): started\n",
      "  Preparing metadata (setup.py): finished with status 'done'\n",
      "Building wheels for collected packages: camelcase\n",
      "  Building wheel for camelcase (setup.py): started\n",
      "  Building wheel for camelcase (setup.py): finished with status 'done'\n",
      "  Created wheel for camelcase: filename=camelcase-0.2-py3-none-any.whl size=1773 sha256=c71124af8ce95803844681cb5f0a2b22a28780314e342fea1688be5f7561ea4c\n",
      "  Stored in directory: c:\\users\\nihan.ozbaltan\\appdata\\local\\pip\\cache\\wheels\\c3\\9a\\eb\\7eca0b069ef85183fd3215aa793d8ffa56ae5b424912c311df\n",
      "Successfully built camelcase\n",
      "Installing collected packages: camelcase\n",
      "Successfully installed camelcase-0.2\n",
      "Note: you may need to restart the kernel to use updated packages.\n"
     ]
    }
   ],
   "source": [
    "pip install camelcase"
   ]
  },
  {
   "cell_type": "code",
   "execution_count": 95,
   "metadata": {},
   "outputs": [],
   "source": [
    "import numpy as np"
   ]
  },
  {
   "cell_type": "code",
   "execution_count": 255,
   "metadata": {},
   "outputs": [],
   "source": [
    "import pandas as pd\n",
    "\n",
    "\n",
    "muratpq@gmail.com"
   ]
  },
  {
   "cell_type": "code",
   "execution_count": 256,
   "metadata": {},
   "outputs": [
    {
     "name": "stdout",
     "output_type": "stream",
     "text": [
      "Küçük Harfle Yazılmış\n"
     ]
    }
   ],
   "source": [
    "import camelcase\n",
    "\n",
    "cc = camelcase.CamelCase()\n",
    "\n",
    "txt = \"küçük harfle yazılmış\"\n",
    "\n",
    "print(cc.hump(txt))"
   ]
  }
 ],
 "metadata": {
  "kernelspec": {
   "display_name": "Python 3 (ipykernel)",
   "language": "python",
   "name": "python3"
  },
  "language_info": {
   "codemirror_mode": {
    "name": "ipython",
    "version": 3
   },
   "file_extension": ".py",
   "mimetype": "text/x-python",
   "name": "python",
   "nbconvert_exporter": "python",
   "pygments_lexer": "ipython3",
   "version": "3.9.13"
  }
 },
 "nbformat": 4,
 "nbformat_minor": 2
}
